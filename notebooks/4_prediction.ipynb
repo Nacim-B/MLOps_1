{
 "cells": [
  {
   "metadata": {
    "ExecuteTime": {
     "end_time": "2025-04-23T11:49:03.311719Z",
     "start_time": "2025-04-23T11:49:02.626224Z"
    }
   },
   "cell_type": "code",
   "source": [
    "import os\n",
    "from dotenv import load_dotenv\n",
    "import pandas as pd\n",
    "from mlops_project.utils.s3_handler import S3Handler\n",
    "from mlops_project.config.config_loader import load_config"
   ],
   "id": "260610ac3e755e0",
   "outputs": [],
   "execution_count": 1
  },
  {
   "metadata": {
    "ExecuteTime": {
     "end_time": "2025-04-23T11:51:11.957072Z",
     "start_time": "2025-04-23T11:51:11.944935Z"
    }
   },
   "cell_type": "code",
   "source": [
    "load_dotenv()\n",
    "bucket = os.getenv(\"S3_BUCKET_NAME\")\n",
    "filename = os.getenv(\"CSV_FILENAME\")\n",
    "config = load_config(\"../src/mlops_project/config/dev.yaml\")\n",
    "\n",
    "# 📦 3. Préparer les chemins S3\n",
    "project_name = config[\"project_name\"]\n",
    "csv_input_key = f\"datasets/{filename}_processed.csv\"\n",
    "model_key = f\"models/{project_name}_model.pkl\""
   ],
   "id": "7b99783ac68d37c0",
   "outputs": [],
   "execution_count": 4
  },
  {
   "metadata": {
    "ExecuteTime": {
     "end_time": "2025-04-23T11:51:24.581342Z",
     "start_time": "2025-04-23T11:51:22.556422Z"
    }
   },
   "cell_type": "code",
   "source": [
    "# 📡 4. Charger le modèle et les données\n",
    "s3 = S3Handler(bucket)\n",
    "model = s3.load_model_from_s3(model_key)\n",
    "df = s3.load_csv_from_s3(csv_input_key)"
   ],
   "id": "5719b729edd5f743",
   "outputs": [
    {
     "name": "stdout",
     "output_type": "stream",
     "text": [
      "✅ Loaded model from s3://athos-mlops0-bucket/models/titanic-classification_model.pkl\n",
      "📄 Plain CSV detected\n"
     ]
    }
   ],
   "execution_count": 5
  },
  {
   "metadata": {
    "ExecuteTime": {
     "end_time": "2025-04-23T11:51:52.407673Z",
     "start_time": "2025-04-23T11:51:52.395572Z"
    }
   },
   "cell_type": "code",
   "source": [
    "# 🧹 5. Préparer les données (retirer l'id et target si présents)\n",
    "id_column = config.get(\"id_column\")\n",
    "target = config.get(\"target\")\n",
    "\n",
    "if id_column in df.columns:\n",
    "    df = df.set_index(id_column)\n",
    "\n",
    "if target in df.columns:\n",
    "    df = df.drop(columns=[target])"
   ],
   "id": "75f0892bc3d960f1",
   "outputs": [],
   "execution_count": 6
  },
  {
   "metadata": {
    "ExecuteTime": {
     "end_time": "2025-04-23T11:52:01.905129Z",
     "start_time": "2025-04-23T11:52:01.795137Z"
    }
   },
   "cell_type": "code",
   "source": [
    "# 🤖 6. Faire la prédiction\n",
    "predictions = model.predict(df)\n",
    "\n",
    "# 🧾 7. Visualiser les résultats\n",
    "df_pred = pd.DataFrame(predictions, columns=[\"prediction\"], index=df.index)\n",
    "df_pred.head()"
   ],
   "id": "1c834a7e0315cfb9",
   "outputs": [
    {
     "data": {
      "text/plain": [
       "             prediction\n",
       "PassengerId            \n",
       "1                     0\n",
       "2                     1\n",
       "3                     1\n",
       "4                     1\n",
       "5                     0"
      ],
      "text/html": [
       "<div>\n",
       "<style scoped>\n",
       "    .dataframe tbody tr th:only-of-type {\n",
       "        vertical-align: middle;\n",
       "    }\n",
       "\n",
       "    .dataframe tbody tr th {\n",
       "        vertical-align: top;\n",
       "    }\n",
       "\n",
       "    .dataframe thead th {\n",
       "        text-align: right;\n",
       "    }\n",
       "</style>\n",
       "<table border=\"1\" class=\"dataframe\">\n",
       "  <thead>\n",
       "    <tr style=\"text-align: right;\">\n",
       "      <th></th>\n",
       "      <th>prediction</th>\n",
       "    </tr>\n",
       "    <tr>\n",
       "      <th>PassengerId</th>\n",
       "      <th></th>\n",
       "    </tr>\n",
       "  </thead>\n",
       "  <tbody>\n",
       "    <tr>\n",
       "      <th>1</th>\n",
       "      <td>0</td>\n",
       "    </tr>\n",
       "    <tr>\n",
       "      <th>2</th>\n",
       "      <td>1</td>\n",
       "    </tr>\n",
       "    <tr>\n",
       "      <th>3</th>\n",
       "      <td>1</td>\n",
       "    </tr>\n",
       "    <tr>\n",
       "      <th>4</th>\n",
       "      <td>1</td>\n",
       "    </tr>\n",
       "    <tr>\n",
       "      <th>5</th>\n",
       "      <td>0</td>\n",
       "    </tr>\n",
       "  </tbody>\n",
       "</table>\n",
       "</div>"
      ]
     },
     "execution_count": 7,
     "metadata": {},
     "output_type": "execute_result"
    }
   ],
   "execution_count": 7
  },
  {
   "metadata": {},
   "cell_type": "code",
   "outputs": [],
   "execution_count": null,
   "source": "",
   "id": "911bba72284af6de"
  }
 ],
 "metadata": {},
 "nbformat": 4,
 "nbformat_minor": 5
}
