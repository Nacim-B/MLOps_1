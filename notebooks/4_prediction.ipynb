{
 "cells": [
  {
   "metadata": {
    "ExecuteTime": {
     "end_time": "2025-04-25T10:12:57.886688Z",
     "start_time": "2025-04-25T10:12:57.203729Z"
    }
   },
   "cell_type": "code",
   "source": [
    "import os\n",
    "from dotenv import load_dotenv\n",
    "import pandas as pd\n",
    "from mlops_project.utils.s3_handler import S3Handler\n",
    "from mlops_project.config.config_loader import load_config"
   ],
   "id": "260610ac3e755e0",
   "outputs": [],
   "execution_count": 1
  },
  {
   "metadata": {
    "ExecuteTime": {
     "end_time": "2025-04-25T10:12:58.148549Z",
     "start_time": "2025-04-25T10:12:58.141103Z"
    }
   },
   "cell_type": "code",
   "source": [
    "load_dotenv()\n",
    "bucket = os.getenv(\"S3_BUCKET_NAME\")\n",
    "filename = os.getenv(\"CSV_FILENAME\")\n",
    "config = load_config(\"../src/mlops_project/config/dev.yaml\")\n",
    "\n",
    "# 📦 3. Préparer les chemins S3\n",
    "project_name = config[\"project_name\"]\n",
    "csv_input_key = f\"datasets/{filename}_processed.csv\"\n",
    "model_key = f\"models/{project_name}_model.pkl\""
   ],
   "id": "7b99783ac68d37c0",
   "outputs": [],
   "execution_count": 2
  },
  {
   "metadata": {
    "ExecuteTime": {
     "end_time": "2025-04-25T10:12:59.534008Z",
     "start_time": "2025-04-25T10:12:58.208343Z"
    }
   },
   "cell_type": "code",
   "source": [
    "# 📡 4. Charger le modèle et les données\n",
    "s3 = S3Handler(bucket)\n",
    "model = s3.load_model_from_s3(model_key)\n",
    "df = s3.load_csv_from_s3(csv_input_key)"
   ],
   "id": "5719b729edd5f743",
   "outputs": [
    {
     "name": "stdout",
     "output_type": "stream",
     "text": [
      "✅ Loaded model from s3://athos-mlops0-bucket/models/iris-classification_model.pkl\n",
      "📄 Plain CSV detected\n"
     ]
    }
   ],
   "execution_count": 3
  },
  {
   "metadata": {
    "ExecuteTime": {
     "end_time": "2025-04-25T10:12:59.581311Z",
     "start_time": "2025-04-25T10:12:59.573045Z"
    }
   },
   "cell_type": "code",
   "source": [
    "# 🧹 5. Préparer les données (retirer l'id et target si présents)\n",
    "id_column = config.get(\"id_column\")\n",
    "target = config.get(\"target\")\n",
    "\n",
    "if id_column in df.columns:\n",
    "    df = df.set_index(id_column)\n",
    "\n",
    "if target in df.columns:\n",
    "    df = df.drop(columns=[target])"
   ],
   "id": "75f0892bc3d960f1",
   "outputs": [],
   "execution_count": 4
  },
  {
   "metadata": {
    "ExecuteTime": {
     "end_time": "2025-04-25T10:12:59.697003Z",
     "start_time": "2025-04-25T10:12:59.651424Z"
    }
   },
   "cell_type": "code",
   "source": [
    "# 🤖 6. Faire la prédiction\n",
    "predictions = model.predict(df)\n",
    "\n",
    "# 🧾 7. Visualiser les résultats\n",
    "df_pred = pd.DataFrame(predictions, columns=[\"prediction\"], index=df.index)\n",
    "df_pred.head()"
   ],
   "id": "1c834a7e0315cfb9",
   "outputs": [
    {
     "data": {
      "text/plain": [
       "  prediction\n",
       "0     setosa\n",
       "1     setosa\n",
       "2     setosa\n",
       "3     setosa\n",
       "4     setosa"
      ],
      "text/html": [
       "<div>\n",
       "<style scoped>\n",
       "    .dataframe tbody tr th:only-of-type {\n",
       "        vertical-align: middle;\n",
       "    }\n",
       "\n",
       "    .dataframe tbody tr th {\n",
       "        vertical-align: top;\n",
       "    }\n",
       "\n",
       "    .dataframe thead th {\n",
       "        text-align: right;\n",
       "    }\n",
       "</style>\n",
       "<table border=\"1\" class=\"dataframe\">\n",
       "  <thead>\n",
       "    <tr style=\"text-align: right;\">\n",
       "      <th></th>\n",
       "      <th>prediction</th>\n",
       "    </tr>\n",
       "  </thead>\n",
       "  <tbody>\n",
       "    <tr>\n",
       "      <th>0</th>\n",
       "      <td>setosa</td>\n",
       "    </tr>\n",
       "    <tr>\n",
       "      <th>1</th>\n",
       "      <td>setosa</td>\n",
       "    </tr>\n",
       "    <tr>\n",
       "      <th>2</th>\n",
       "      <td>setosa</td>\n",
       "    </tr>\n",
       "    <tr>\n",
       "      <th>3</th>\n",
       "      <td>setosa</td>\n",
       "    </tr>\n",
       "    <tr>\n",
       "      <th>4</th>\n",
       "      <td>setosa</td>\n",
       "    </tr>\n",
       "  </tbody>\n",
       "</table>\n",
       "</div>"
      ]
     },
     "execution_count": 5,
     "metadata": {},
     "output_type": "execute_result"
    }
   ],
   "execution_count": 5
  },
  {
   "metadata": {},
   "cell_type": "code",
   "outputs": [],
   "execution_count": null,
   "source": "",
   "id": "2d6965d37d4ae107"
  }
 ],
 "metadata": {},
 "nbformat": 4,
 "nbformat_minor": 5
}
