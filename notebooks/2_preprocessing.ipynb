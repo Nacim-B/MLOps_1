{
 "cells": [
  {
   "metadata": {},
   "cell_type": "markdown",
   "source": "## Setup",
   "id": "8b847a9ce1cff05e"
  },
  {
   "cell_type": "code",
   "id": "initial_id",
   "metadata": {
    "collapsed": true,
    "ExecuteTime": {
     "end_time": "2025-04-21T09:10:16.650166Z",
     "start_time": "2025-04-21T09:10:16.638993Z"
    }
   },
   "source": [
    "import os\n",
    "import sys\n",
    "import pandas as pd\n",
    "import boto3\n",
    "import numpy as np\n",
    "from sklearn.preprocessing import StandardScaler\n",
    "from io import StringIO\n",
    "from dotenv import load_dotenv\n",
    "\n",
    "# Setup import depuis src/\n",
    "sys.path.append(\"src\")\n",
    "from mlops_project.utils.load_csv import read_csv_from_s3"
   ],
   "outputs": [],
   "execution_count": 48
  },
  {
   "metadata": {},
   "cell_type": "code",
   "outputs": [],
   "execution_count": null,
   "source": [
    "load_dotenv()\n",
    "\n",
    "bucket = os.getenv(\"S3_BUCKET_NAME\")\n",
    "filename = os.getenv(\"CSV_FILENAME\")\n",
    "s3_key = f\"datasets/{filename}\"\n",
    "\n",
    "df = read_csv_from_s3(bucket, s3_key)\n",
    "print(f\"✅ Loaded dataset with shape: {df.shape}\")"
   ],
   "id": "c92d0d65916a816d"
  },
  {
   "metadata": {},
   "cell_type": "markdown",
   "source": "## Initial Cleanup",
   "id": "992530f44864a65b"
  },
  {
   "metadata": {
    "ExecuteTime": {
     "end_time": "2025-04-21T08:32:02.689998Z",
     "start_time": "2025-04-21T08:32:02.682234Z"
    }
   },
   "cell_type": "code",
   "source": [
    "# Initial dataset shape\n",
    "print(f\"🔍 Initial shape: {df.shape}\")"
   ],
   "id": "a3a237574978bf6a",
   "outputs": [
    {
     "name": "stdout",
     "output_type": "stream",
     "text": [
      "🔍 Initial shape: (891, 12)\n"
     ]
    }
   ],
   "execution_count": 5
  },
  {
   "metadata": {
    "ExecuteTime": {
     "end_time": "2025-04-21T08:32:03.189842Z",
     "start_time": "2025-04-21T08:32:03.174009Z"
    }
   },
   "cell_type": "code",
   "source": [
    "# Drop duplicate rows\n",
    "df = df.drop_duplicates()\n",
    "print(f\"🧹 After removing duplicates: {df.shape}\")"
   ],
   "id": "5338f88c378e7806",
   "outputs": [
    {
     "name": "stdout",
     "output_type": "stream",
     "text": [
      "🧹 After removing duplicates: (891, 12)\n"
     ]
    }
   ],
   "execution_count": 6
  },
  {
   "metadata": {
    "ExecuteTime": {
     "end_time": "2025-04-21T08:32:04.726688Z",
     "start_time": "2025-04-21T08:32:04.712783Z"
    }
   },
   "cell_type": "code",
   "source": [
    "# Drop empty columns (100% missing values)\n",
    "empty_cols = df.columns[df.isna().sum() == len(df)]\n",
    "df = df.drop(columns=empty_cols)\n",
    "print(f\"🗑️ Dropped empty columns: {list(empty_cols)}\")"
   ],
   "id": "a310622ef36800e",
   "outputs": [
    {
     "name": "stdout",
     "output_type": "stream",
     "text": [
      "🗑️ Dropped empty columns: []\n"
     ]
    }
   ],
   "execution_count": 7
  },
  {
   "metadata": {
    "ExecuteTime": {
     "end_time": "2025-04-21T08:32:07.380435Z",
     "start_time": "2025-04-21T08:32:07.365252Z"
    }
   },
   "cell_type": "code",
   "source": [
    "# Drop constant columns (only one unique value)\n",
    "constant_cols = [col for col in df.columns if df[col].nunique() <= 1]\n",
    "df = df.drop(columns=constant_cols)\n",
    "print(f\"🧺 Dropped constant columns: {constant_cols}\")"
   ],
   "id": "371102f76cecac45",
   "outputs": [
    {
     "name": "stdout",
     "output_type": "stream",
     "text": [
      "🧺 Dropped constant columns: []\n"
     ]
    }
   ],
   "execution_count": 8
  },
  {
   "metadata": {
    "ExecuteTime": {
     "end_time": "2025-04-21T08:55:47.066063Z",
     "start_time": "2025-04-21T08:55:47.051256Z"
    }
   },
   "cell_type": "code",
   "source": [
    "# Drop unique columns (as many unique values as rows)\n",
    "unique_cols = [col for col in df.columns if df[col].nunique() == len(df)]\n",
    "df = df.drop(columns=unique_cols)\n",
    "print(f\"🚮 Dropped totally unique columns: {unique_cols}\")"
   ],
   "id": "9dfc9ad7b9a0d11b",
   "outputs": [
    {
     "name": "stdout",
     "output_type": "stream",
     "text": [
      "🚮 Dropped totally unique columns: ['PassengerId', 'Name']\n"
     ]
    }
   ],
   "execution_count": 21
  },
  {
   "metadata": {
    "ExecuteTime": {
     "end_time": "2025-04-21T08:55:53.593935Z",
     "start_time": "2025-04-21T08:55:53.586450Z"
    }
   },
   "cell_type": "code",
   "source": "print(f\"✅ Cleaned shape: {df.shape}\")",
   "id": "4a9aca70e05ea95a",
   "outputs": [
    {
     "name": "stdout",
     "output_type": "stream",
     "text": [
      "✅ Cleaned shape: (891, 10)\n"
     ]
    }
   ],
   "execution_count": 22
  },
  {
   "metadata": {},
   "cell_type": "markdown",
   "source": "## Handling Missing Values (numerical features)",
   "id": "39417934e42a335b"
  },
  {
   "metadata": {
    "ExecuteTime": {
     "end_time": "2025-04-21T08:55:56.456411Z",
     "start_time": "2025-04-21T08:55:56.444323Z"
    }
   },
   "cell_type": "code",
   "source": [
    "# Select numerical columns\n",
    "num_cols = df.select_dtypes(include=[\"number\"]).columns"
   ],
   "id": "9fcc92c834aaf5f",
   "outputs": [],
   "execution_count": 23
  },
  {
   "metadata": {
    "ExecuteTime": {
     "end_time": "2025-04-21T08:55:56.869390Z",
     "start_time": "2025-04-21T08:55:56.859363Z"
    }
   },
   "cell_type": "code",
   "source": [
    "# Count missing values in numerical columns\n",
    "missing_num = df[num_cols].isna().sum()\n",
    "missing_num = missing_num[missing_num > 0]\n",
    "\n",
    "print(\"🔍 Numerical columns with missing values:\")\n",
    "print(missing_num)"
   ],
   "id": "d0893ca35d9aaa68",
   "outputs": [
    {
     "name": "stdout",
     "output_type": "stream",
     "text": [
      "🔍 Numerical columns with missing values:\n",
      "Series([], dtype: int64)\n"
     ]
    }
   ],
   "execution_count": 24
  },
  {
   "metadata": {
    "ExecuteTime": {
     "end_time": "2025-04-21T08:55:57.749762Z",
     "start_time": "2025-04-21T08:55:57.742807Z"
    }
   },
   "cell_type": "code",
   "source": [
    "# Fill missing values with the median of each column\n",
    "for col in missing_num.index:\n",
    "    median_value = df[col].median()\n",
    "    df[col] = df[col].fillna(median_value)\n",
    "    print(f\"🧪 Filled NaNs in '{col}' with median: {median_value:.2f}\")"
   ],
   "id": "e2b220f07d0c0621",
   "outputs": [],
   "execution_count": 25
  },
  {
   "metadata": {},
   "cell_type": "markdown",
   "source": "## Handling Missing Values (categorical features)",
   "id": "7ddc1216fa6cb1ad"
  },
  {
   "metadata": {
    "ExecuteTime": {
     "end_time": "2025-04-21T08:56:02.959816Z",
     "start_time": "2025-04-21T08:56:02.948133Z"
    }
   },
   "cell_type": "code",
   "source": [
    "# Select categorical columns\n",
    "cat_cols = df.select_dtypes(include=[\"object\", \"category\"]).columns"
   ],
   "id": "fd94dd5d9a9f2ce7",
   "outputs": [],
   "execution_count": 26
  },
  {
   "metadata": {
    "ExecuteTime": {
     "end_time": "2025-04-21T08:56:03.719272Z",
     "start_time": "2025-04-21T08:56:03.705353Z"
    }
   },
   "cell_type": "code",
   "source": [
    "# Count missing values in categorical columns\n",
    "missing_cat = df[cat_cols].isna().sum()\n",
    "missing_cat = missing_cat[missing_cat > 0]\n",
    "\n",
    "print(\"🔍 Categorical columns with missing values:\")\n",
    "print(missing_cat)"
   ],
   "id": "91947167f9ab4cd",
   "outputs": [
    {
     "name": "stdout",
     "output_type": "stream",
     "text": [
      "🔍 Categorical columns with missing values:\n",
      "Series([], dtype: int64)\n"
     ]
    }
   ],
   "execution_count": 27
  },
  {
   "metadata": {
    "ExecuteTime": {
     "end_time": "2025-04-21T08:56:04.299101Z",
     "start_time": "2025-04-21T08:56:04.292298Z"
    }
   },
   "cell_type": "code",
   "source": [
    "# Fill missing values with the most frequent value (mode)\n",
    "for col in missing_cat.index:\n",
    "    most_common = df[col].mode()[0]\n",
    "    df[col] = df[col].fillna(most_common)\n",
    "    print(f\"📌 Filled NaNs in '{col}' with most frequent value: '{most_common}'\")"
   ],
   "id": "898653752e2d70ea",
   "outputs": [],
   "execution_count": 28
  },
  {
   "metadata": {},
   "cell_type": "markdown",
   "source": "## Standardisation",
   "id": "606def9511b8107c"
  },
  {
   "metadata": {
    "ExecuteTime": {
     "end_time": "2025-04-21T08:59:52.360575Z",
     "start_time": "2025-04-21T08:59:52.352345Z"
    }
   },
   "cell_type": "code",
   "source": [
    "# Select numerical columns\n",
    "num_cols = df.select_dtypes(include=[\"number\"]).columns"
   ],
   "id": "9e821456d940ec8f",
   "outputs": [],
   "execution_count": 31
  },
  {
   "metadata": {
    "ExecuteTime": {
     "end_time": "2025-04-21T08:59:52.775880Z",
     "start_time": "2025-04-21T08:59:52.767716Z"
    }
   },
   "cell_type": "code",
   "source": [
    "# Identify numeric columns with few unique values (discrete-like)\n",
    "discrete_as_cat = [col for col in num_cols if df[col].nunique() <= 5]"
   ],
   "id": "816d3f03c1bfe9b6",
   "outputs": [],
   "execution_count": 32
  },
  {
   "metadata": {
    "ExecuteTime": {
     "end_time": "2025-04-21T08:59:53.329852Z",
     "start_time": "2025-04-21T08:59:53.317714Z"
    }
   },
   "cell_type": "code",
   "source": [
    "# Final list of columns to scale = numeric columns - discrete ones\n",
    "scale_cols = [col for col in num_cols if col not in discrete_as_cat]"
   ],
   "id": "177374b649b22bfd",
   "outputs": [],
   "execution_count": 33
  },
  {
   "metadata": {
    "ExecuteTime": {
     "end_time": "2025-04-21T08:59:53.931172Z",
     "start_time": "2025-04-21T08:59:53.919557Z"
    }
   },
   "cell_type": "code",
   "source": [
    "print(f\"🧠 Treating as categorical (discrete numeric): {discrete_as_cat}\")\n",
    "print(f\"📏 Standardizing columns: {scale_cols}\")"
   ],
   "id": "9b588c335d8073c4",
   "outputs": [
    {
     "name": "stdout",
     "output_type": "stream",
     "text": [
      "🧠 Treating as categorical (discrete numeric): ['Survived', 'Pclass']\n",
      "📏 Standardizing columns: ['Age', 'SibSp', 'Parch', 'Fare']\n"
     ]
    }
   ],
   "execution_count": 34
  },
  {
   "metadata": {
    "ExecuteTime": {
     "end_time": "2025-04-21T09:00:41.357974Z",
     "start_time": "2025-04-21T09:00:41.342016Z"
    }
   },
   "cell_type": "code",
   "source": [
    "# Apply StandardScaler only on selected columns\n",
    "scaler = StandardScaler()\n",
    "scaled_data = scaler.fit_transform(df[scale_cols])"
   ],
   "id": "6c870f891b8855e5",
   "outputs": [],
   "execution_count": 37
  },
  {
   "metadata": {
    "ExecuteTime": {
     "end_time": "2025-04-21T09:00:43.745610Z",
     "start_time": "2025-04-21T09:00:43.734637Z"
    }
   },
   "cell_type": "code",
   "source": [
    "# Replace in DataFrame\n",
    "df[scale_cols] = scaled_data"
   ],
   "id": "fc9875284ee5b5a",
   "outputs": [],
   "execution_count": 38
  },
  {
   "metadata": {
    "ExecuteTime": {
     "end_time": "2025-04-21T09:00:54.887877Z",
     "start_time": "2025-04-21T09:00:54.880909Z"
    }
   },
   "cell_type": "code",
   "source": "print(f\"✅ Standardized {len(scale_cols)} columns.\")",
   "id": "6433833e5ff1d6b8",
   "outputs": [
    {
     "name": "stdout",
     "output_type": "stream",
     "text": [
      "✅ Standardized 4 columns.\n"
     ]
    }
   ],
   "execution_count": 39
  },
  {
   "metadata": {},
   "cell_type": "markdown",
   "source": "## Encoding",
   "id": "8e1b36a0d34981e1"
  },
  {
   "metadata": {
    "ExecuteTime": {
     "end_time": "2025-04-21T09:01:56.199692Z",
     "start_time": "2025-04-21T09:01:56.189675Z"
    }
   },
   "cell_type": "code",
   "source": [
    "# Get original categorical columns (object or category type)\n",
    "base_cat_cols = df.select_dtypes(include=[\"object\", \"category\"]).columns.tolist()"
   ],
   "id": "95399331e49b769d",
   "outputs": [],
   "execution_count": 40
  },
  {
   "metadata": {
    "ExecuteTime": {
     "end_time": "2025-04-21T09:02:14.318051Z",
     "start_time": "2025-04-21T09:02:14.311665Z"
    }
   },
   "cell_type": "code",
   "source": [
    "# Add discrete numeric columns identified as categorical\n",
    "cat_cols = base_cat_cols + discrete_as_cat"
   ],
   "id": "8b2ca2409335ccd1",
   "outputs": [],
   "execution_count": 41
  },
  {
   "metadata": {
    "ExecuteTime": {
     "end_time": "2025-04-21T09:02:24.630848Z",
     "start_time": "2025-04-21T09:02:24.624949Z"
    }
   },
   "cell_type": "code",
   "source": "print(f\"🎯 One-hot encoding on columns: {cat_cols}\")",
   "id": "70f2da0e41c4d873",
   "outputs": [
    {
     "name": "stdout",
     "output_type": "stream",
     "text": [
      "🎯 One-hot encoding on columns: ['Sex', 'Ticket', 'Cabin', 'Embarked', 'Survived', 'Pclass']\n"
     ]
    }
   ],
   "execution_count": 42
  },
  {
   "metadata": {
    "ExecuteTime": {
     "end_time": "2025-04-21T09:07:11.243563Z",
     "start_time": "2025-04-21T09:07:11.222764Z"
    }
   },
   "cell_type": "code",
   "source": "df_encoded = pd.get_dummies(df, columns=cat_cols)",
   "id": "ee7a414e40c04f4f",
   "outputs": [],
   "execution_count": 45
  },
  {
   "metadata": {
    "ExecuteTime": {
     "end_time": "2025-04-21T09:07:11.988581Z",
     "start_time": "2025-04-21T09:07:11.982475Z"
    }
   },
   "cell_type": "code",
   "source": "print(f\"✅ Shape after encoding: {df_encoded.shape}\")",
   "id": "28ff961acde3df86",
   "outputs": [
    {
     "name": "stdout",
     "output_type": "stream",
     "text": [
      "✅ Shape after encoding: (891, 842)\n"
     ]
    }
   ],
   "execution_count": 46
  },
  {
   "metadata": {},
   "cell_type": "markdown",
   "source": "## Export",
   "id": "708e461b9e260cf1"
  },
  {
   "metadata": {
    "ExecuteTime": {
     "end_time": "2025-04-21T09:17:27.932766Z",
     "start_time": "2025-04-21T09:17:27.905874Z"
    }
   },
   "cell_type": "code",
   "source": [
    "s3 = boto3.client(\"s3\")\n",
    "output_key = f\"datasets/{filename.replace('.csv', '_processed.csv')}\""
   ],
   "id": "8b90b6fce3537f1",
   "outputs": [],
   "execution_count": 49
  },
  {
   "metadata": {
    "ExecuteTime": {
     "end_time": "2025-04-21T09:18:50.804839Z",
     "start_time": "2025-04-21T09:18:50.429038Z"
    }
   },
   "cell_type": "code",
   "source": [
    "csv_buffer = StringIO()\n",
    "df_encoded.to_csv(csv_buffer, index=False)"
   ],
   "id": "7fa02e98823f4788",
   "outputs": [],
   "execution_count": 50
  },
  {
   "metadata": {
    "ExecuteTime": {
     "end_time": "2025-04-21T09:20:53.569786Z",
     "start_time": "2025-04-21T09:20:53.143432Z"
    }
   },
   "cell_type": "code",
   "source": [
    "# Upload to S3\n",
    "s3.put_object(\n",
    "    Bucket=os.getenv(\"S3_BUCKET_NAME\"),\n",
    "    Key=output_key,\n",
    "    Body=csv_buffer.getvalue()\n",
    ")\n",
    "\n",
    "print(f\"✅ Saved processed dataset to s3://{os.getenv('S3_BUCKET_NAME')}/{output_key}\")"
   ],
   "id": "d3e8de72c2fec03c",
   "outputs": [
    {
     "name": "stdout",
     "output_type": "stream",
     "text": [
      "✅ Saved processed dataset to s3://athos-mlops0-bucket/datasets/titanic_processed.csv\n"
     ]
    }
   ],
   "execution_count": 51
  },
  {
   "metadata": {},
   "cell_type": "code",
   "outputs": [],
   "execution_count": null,
   "source": "",
   "id": "51f985de0c5029e1"
  }
 ],
 "metadata": {
  "kernelspec": {
   "display_name": "Python 3",
   "language": "python",
   "name": "python3"
  },
  "language_info": {
   "codemirror_mode": {
    "name": "ipython",
    "version": 2
   },
   "file_extension": ".py",
   "mimetype": "text/x-python",
   "name": "python",
   "nbconvert_exporter": "python",
   "pygments_lexer": "ipython2",
   "version": "2.7.6"
  }
 },
 "nbformat": 4,
 "nbformat_minor": 5
}
