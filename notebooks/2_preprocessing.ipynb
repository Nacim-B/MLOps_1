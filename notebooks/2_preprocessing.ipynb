{
 "cells": [
  {
   "metadata": {},
   "cell_type": "markdown",
   "source": "## Setup",
   "id": "8b847a9ce1cff05e"
  },
  {
   "cell_type": "code",
   "id": "initial_id",
   "metadata": {
    "collapsed": true,
    "ExecuteTime": {
     "end_time": "2025-04-21T11:33:53.722451Z",
     "start_time": "2025-04-21T11:33:53.519421Z"
    }
   },
   "source": [
    "import os\n",
    "import sys\n",
    "import pandas as pd\n",
    "import boto3\n",
    "import numpy as np\n",
    "from sklearn.preprocessing import StandardScaler\n",
    "from io import StringIO\n",
    "from dotenv import load_dotenv\n",
    "\n",
    "sys.path.append(\"src\")\n",
    "from mlops_project.utils.load_from_s3 import S3Loader\n"
   ],
   "outputs": [],
   "execution_count": 1
  },
  {
   "metadata": {
    "ExecuteTime": {
     "end_time": "2025-04-21T11:33:54.447777Z",
     "start_time": "2025-04-21T11:33:54.002051Z"
    }
   },
   "cell_type": "code",
   "source": [
    "load_dotenv()\n",
    "\n",
    "bucket = os.getenv(\"S3_BUCKET_NAME\")\n",
    "filename = os.getenv(\"CSV_FILENAME\")\n",
    "s3_key = f\"datasets/{filename}\"\n",
    "\n",
    "target = \"median_house_value\"\n",
    "id_column = None # None if no index value\n",
    "\n",
    "s3loader = S3Loader(bucket)\n",
    "df = s3loader.load_csv_from_s3(s3_key)\n",
    "print(f\"✅ Loaded dataset with shape: {df.shape}\")"
   ],
   "id": "c92d0d65916a816d",
   "outputs": [
    {
     "name": "stdout",
     "output_type": "stream",
     "text": [
      "🌀 GZIP compression detected\n",
      "✅ Loaded dataset with shape: (20640, 10)\n"
     ]
    }
   ],
   "execution_count": 2
  },
  {
   "metadata": {},
   "cell_type": "markdown",
   "source": "## Initial Cleanup",
   "id": "992530f44864a65b"
  },
  {
   "metadata": {
    "ExecuteTime": {
     "end_time": "2025-04-21T11:33:59.981812Z",
     "start_time": "2025-04-21T11:33:59.972631Z"
    }
   },
   "cell_type": "code",
   "source": [
    "# Initial dataset shape\n",
    "print(f\"🔍 Initial shape: {df.shape}\")"
   ],
   "id": "a3a237574978bf6a",
   "outputs": [
    {
     "name": "stdout",
     "output_type": "stream",
     "text": [
      "🔍 Initial shape: (20640, 10)\n"
     ]
    }
   ],
   "execution_count": 3
  },
  {
   "metadata": {
    "ExecuteTime": {
     "end_time": "2025-04-21T11:34:01.321748Z",
     "start_time": "2025-04-21T11:34:01.278591Z"
    }
   },
   "cell_type": "code",
   "source": [
    "# Drop duplicate rows\n",
    "df = df.drop_duplicates()\n",
    "print(f\"🧹 After removing duplicates: {df.shape}\")"
   ],
   "id": "5338f88c378e7806",
   "outputs": [
    {
     "name": "stdout",
     "output_type": "stream",
     "text": [
      "🧹 After removing duplicates: (20640, 10)\n"
     ]
    }
   ],
   "execution_count": 4
  },
  {
   "metadata": {
    "ExecuteTime": {
     "end_time": "2025-04-21T11:34:02.647983Z",
     "start_time": "2025-04-21T11:34:02.624998Z"
    }
   },
   "cell_type": "code",
   "source": [
    "# Drop empty columns (100% missing values)\n",
    "empty_cols = df.columns[df.isna().sum() == len(df)]\n",
    "df = df.drop(columns=empty_cols)\n",
    "print(f\"🗑️ Dropped empty columns: {list(empty_cols)}\")"
   ],
   "id": "a310622ef36800e",
   "outputs": [
    {
     "name": "stdout",
     "output_type": "stream",
     "text": [
      "🗑️ Dropped empty columns: []\n"
     ]
    }
   ],
   "execution_count": 5
  },
  {
   "metadata": {
    "ExecuteTime": {
     "end_time": "2025-04-21T11:34:10.732266Z",
     "start_time": "2025-04-21T11:34:10.701091Z"
    }
   },
   "cell_type": "code",
   "source": [
    "# Drop constant columns (only one unique value)\n",
    "constant_cols = [col for col in df.columns if df[col].nunique() <= 1]\n",
    "df = df.drop(columns=constant_cols)\n",
    "print(f\"🧺 Dropped constant columns: {constant_cols}\")"
   ],
   "id": "371102f76cecac45",
   "outputs": [
    {
     "name": "stdout",
     "output_type": "stream",
     "text": [
      "🧺 Dropped constant columns: []\n"
     ]
    }
   ],
   "execution_count": 6
  },
  {
   "metadata": {
    "ExecuteTime": {
     "end_time": "2025-04-21T11:34:15.872281Z",
     "start_time": "2025-04-21T11:34:15.857246Z"
    }
   },
   "cell_type": "code",
   "source": [
    "# Set ID column as index (if defined, unique, and non-null)\n",
    "if id_column and id_column in df.columns:\n",
    "    is_unique = df[id_column].is_unique\n",
    "    has_no_nan = df[id_column].isna().sum() == 0\n",
    "\n",
    "    if is_unique and has_no_nan:\n",
    "        df.set_index(id_column, inplace=True)\n",
    "        print(f\"📎 Set '{id_column}' as index.\")\n",
    "    elif not is_unique:\n",
    "        print(f\"⚠️ ID column '{id_column}' is not unique – not set as index.\")\n",
    "    elif not has_no_nan:\n",
    "        print(f\"⚠️ ID column '{id_column}' contains missing values – not set as index.\")"
   ],
   "id": "ac9e44ffe342a4fc",
   "outputs": [],
   "execution_count": 7
  },
  {
   "metadata": {
    "ExecuteTime": {
     "end_time": "2025-04-21T11:34:23.316952Z",
     "start_time": "2025-04-21T11:34:23.289123Z"
    }
   },
   "cell_type": "code",
   "source": [
    "# Drop unique columns (as many unique values as rows)\n",
    "unique_cols = [col for col in df.columns if df[col].nunique() == len(df)]\n",
    "df = df.drop(columns=unique_cols)\n",
    "print(f\"🚮 Dropped totally unique columns: {unique_cols}\")"
   ],
   "id": "9dfc9ad7b9a0d11b",
   "outputs": [
    {
     "name": "stdout",
     "output_type": "stream",
     "text": [
      "🚮 Dropped totally unique columns: []\n"
     ]
    }
   ],
   "execution_count": 8
  },
  {
   "metadata": {
    "ExecuteTime": {
     "end_time": "2025-04-21T11:34:28.577891Z",
     "start_time": "2025-04-21T11:34:28.566069Z"
    }
   },
   "cell_type": "code",
   "source": "print(f\"✅ Cleaned shape: {df.shape}\")",
   "id": "4a9aca70e05ea95a",
   "outputs": [
    {
     "name": "stdout",
     "output_type": "stream",
     "text": [
      "✅ Cleaned shape: (20640, 10)\n"
     ]
    }
   ],
   "execution_count": 9
  },
  {
   "metadata": {},
   "cell_type": "markdown",
   "source": "## Handling Missing Values (numerical features)",
   "id": "39417934e42a335b"
  },
  {
   "metadata": {
    "ExecuteTime": {
     "end_time": "2025-04-21T11:34:37.586940Z",
     "start_time": "2025-04-21T11:34:37.576254Z"
    }
   },
   "cell_type": "code",
   "source": [
    "# Select numerical columns\n",
    "num_cols = df.select_dtypes(include=[\"number\"]).columns"
   ],
   "id": "9fcc92c834aaf5f",
   "outputs": [],
   "execution_count": 10
  },
  {
   "metadata": {
    "ExecuteTime": {
     "end_time": "2025-04-21T11:34:41.517779Z",
     "start_time": "2025-04-21T11:34:41.494720Z"
    }
   },
   "cell_type": "code",
   "source": [
    "# Count missing values in numerical columns\n",
    "missing_num = df[num_cols].isna().sum()\n",
    "missing_num = missing_num[missing_num > 0]\n",
    "\n",
    "print(\"🔍 Numerical columns with missing values:\")\n",
    "print(missing_num)"
   ],
   "id": "d0893ca35d9aaa68",
   "outputs": [
    {
     "name": "stdout",
     "output_type": "stream",
     "text": [
      "🔍 Numerical columns with missing values:\n",
      "total_bedrooms    207\n",
      "dtype: int64\n"
     ]
    }
   ],
   "execution_count": 11
  },
  {
   "metadata": {
    "ExecuteTime": {
     "end_time": "2025-04-21T11:34:45.721290Z",
     "start_time": "2025-04-21T11:34:45.706277Z"
    }
   },
   "cell_type": "code",
   "source": [
    "# Fill missing values with the median of each column\n",
    "for col in missing_num.index:\n",
    "    median_value = df[col].median()\n",
    "    df[col] = df[col].fillna(median_value)\n",
    "    print(f\"🧪 Filled NaNs in '{col}' with median: {median_value:.2f}\")"
   ],
   "id": "e2b220f07d0c0621",
   "outputs": [
    {
     "name": "stdout",
     "output_type": "stream",
     "text": [
      "🧪 Filled NaNs in 'total_bedrooms' with median: 435.00\n"
     ]
    }
   ],
   "execution_count": 12
  },
  {
   "metadata": {},
   "cell_type": "markdown",
   "source": "## Handling Missing Values (categorical features)",
   "id": "7ddc1216fa6cb1ad"
  },
  {
   "metadata": {
    "ExecuteTime": {
     "end_time": "2025-04-21T11:36:25.143092Z",
     "start_time": "2025-04-21T11:36:25.132151Z"
    }
   },
   "cell_type": "code",
   "source": [
    "# Select categorical columns\n",
    "cat_cols = df.select_dtypes(include=[\"object\", \"category\"]).columns"
   ],
   "id": "fd94dd5d9a9f2ce7",
   "outputs": [],
   "execution_count": 13
  },
  {
   "metadata": {
    "ExecuteTime": {
     "end_time": "2025-04-21T11:36:25.475914Z",
     "start_time": "2025-04-21T11:36:25.458116Z"
    }
   },
   "cell_type": "code",
   "source": [
    "# Count missing values in categorical columns\n",
    "missing_cat = df[cat_cols].isna().sum()\n",
    "missing_cat = missing_cat[missing_cat > 0]\n",
    "\n",
    "print(\"🔍 Categorical columns with missing values:\")\n",
    "print(missing_cat)"
   ],
   "id": "91947167f9ab4cd",
   "outputs": [
    {
     "name": "stdout",
     "output_type": "stream",
     "text": [
      "🔍 Categorical columns with missing values:\n",
      "Series([], dtype: int64)\n"
     ]
    }
   ],
   "execution_count": 14
  },
  {
   "metadata": {
    "ExecuteTime": {
     "end_time": "2025-04-21T11:36:29.690843Z",
     "start_time": "2025-04-21T11:36:29.682817Z"
    }
   },
   "cell_type": "code",
   "source": [
    "# Fill missing values with the most frequent value (mode)\n",
    "for col in missing_cat.index:\n",
    "    most_common = df[col].mode()[0]\n",
    "    df[col] = df[col].fillna(most_common)\n",
    "    print(f\"📌 Filled NaNs in '{col}' with most frequent value: '{most_common}'\")"
   ],
   "id": "898653752e2d70ea",
   "outputs": [],
   "execution_count": 15
  },
  {
   "metadata": {},
   "cell_type": "markdown",
   "source": "## Standardisation",
   "id": "606def9511b8107c"
  },
  {
   "metadata": {
    "ExecuteTime": {
     "end_time": "2025-04-21T11:36:43.284129Z",
     "start_time": "2025-04-21T11:36:43.267681Z"
    }
   },
   "cell_type": "code",
   "source": [
    "# Select numerical columns\n",
    "num_cols = df.select_dtypes(include=[\"number\"]).columns\n",
    "num_cols = [col for col in num_cols if col != target]"
   ],
   "id": "9e821456d940ec8f",
   "outputs": [],
   "execution_count": 16
  },
  {
   "metadata": {
    "ExecuteTime": {
     "end_time": "2025-04-21T11:36:43.852160Z",
     "start_time": "2025-04-21T11:36:43.832675Z"
    }
   },
   "cell_type": "code",
   "source": [
    "# Identify numeric columns with few unique values (discrete-like)\n",
    "discrete_as_cat = [col for col in num_cols if df[col].nunique() <= 5]"
   ],
   "id": "816d3f03c1bfe9b6",
   "outputs": [],
   "execution_count": 17
  },
  {
   "metadata": {
    "ExecuteTime": {
     "end_time": "2025-04-21T11:36:44.413882Z",
     "start_time": "2025-04-21T11:36:44.405981Z"
    }
   },
   "cell_type": "code",
   "source": [
    "# Final list of columns to scale = numeric columns - discrete ones\n",
    "scale_cols = [col for col in num_cols if col not in discrete_as_cat]"
   ],
   "id": "177374b649b22bfd",
   "outputs": [],
   "execution_count": 18
  },
  {
   "metadata": {
    "ExecuteTime": {
     "end_time": "2025-04-21T11:36:45.431215Z",
     "start_time": "2025-04-21T11:36:45.418536Z"
    }
   },
   "cell_type": "code",
   "source": [
    "print(f\"🧠 Treating as categorical (discrete numeric): {discrete_as_cat}\")\n",
    "print(f\"📏 Standardizing columns: {scale_cols}\")"
   ],
   "id": "9b588c335d8073c4",
   "outputs": [
    {
     "name": "stdout",
     "output_type": "stream",
     "text": [
      "🧠 Treating as categorical (discrete numeric): []\n",
      "📏 Standardizing columns: ['longitude', 'latitude', 'housing_median_age', 'total_rooms', 'total_bedrooms', 'population', 'households', 'median_income']\n"
     ]
    }
   ],
   "execution_count": 19
  },
  {
   "metadata": {
    "ExecuteTime": {
     "end_time": "2025-04-21T11:36:55.623313Z",
     "start_time": "2025-04-21T11:36:55.594218Z"
    }
   },
   "cell_type": "code",
   "source": [
    "# Apply StandardScaler only on selected columns\n",
    "scaler = StandardScaler()\n",
    "scaled_data = scaler.fit_transform(df[scale_cols])"
   ],
   "id": "6c870f891b8855e5",
   "outputs": [],
   "execution_count": 20
  },
  {
   "metadata": {
    "ExecuteTime": {
     "end_time": "2025-04-21T11:36:56.254625Z",
     "start_time": "2025-04-21T11:36:56.242657Z"
    }
   },
   "cell_type": "code",
   "source": [
    "# Replace in DataFrame\n",
    "df[scale_cols] = scaled_data"
   ],
   "id": "fc9875284ee5b5a",
   "outputs": [],
   "execution_count": 21
  },
  {
   "metadata": {
    "ExecuteTime": {
     "end_time": "2025-04-21T11:36:58.771971Z",
     "start_time": "2025-04-21T11:36:58.765127Z"
    }
   },
   "cell_type": "code",
   "source": "print(f\"✅ Standardized {len(scale_cols)} columns.\")",
   "id": "6433833e5ff1d6b8",
   "outputs": [
    {
     "name": "stdout",
     "output_type": "stream",
     "text": [
      "✅ Standardized 8 columns.\n"
     ]
    }
   ],
   "execution_count": 22
  },
  {
   "metadata": {},
   "cell_type": "markdown",
   "source": "## Encoding",
   "id": "8e1b36a0d34981e1"
  },
  {
   "metadata": {
    "ExecuteTime": {
     "end_time": "2025-04-21T11:37:25.659277Z",
     "start_time": "2025-04-21T11:37:25.650529Z"
    }
   },
   "cell_type": "code",
   "source": [
    "# Get original categorical columns (object or category type)\n",
    "base_cat_cols = df.select_dtypes(include=[\"object\", \"category\"]).columns.tolist()\n",
    "base_cat_cols = [col for col in base_cat_cols if col != target]"
   ],
   "id": "95399331e49b769d",
   "outputs": [],
   "execution_count": 23
  },
  {
   "metadata": {
    "ExecuteTime": {
     "end_time": "2025-04-21T11:37:26.309859Z",
     "start_time": "2025-04-21T11:37:26.302758Z"
    }
   },
   "cell_type": "code",
   "source": [
    "# Add discrete numeric columns identified as categorical\n",
    "cat_cols = base_cat_cols + discrete_as_cat"
   ],
   "id": "8b2ca2409335ccd1",
   "outputs": [],
   "execution_count": 24
  },
  {
   "metadata": {
    "ExecuteTime": {
     "end_time": "2025-04-21T11:37:27.290454Z",
     "start_time": "2025-04-21T11:37:27.282665Z"
    }
   },
   "cell_type": "code",
   "source": "print(f\"🎯 One-hot encoding on columns: {cat_cols}\")",
   "id": "70f2da0e41c4d873",
   "outputs": [
    {
     "name": "stdout",
     "output_type": "stream",
     "text": [
      "🎯 One-hot encoding on columns: ['ocean_proximity']\n"
     ]
    }
   ],
   "execution_count": 25
  },
  {
   "metadata": {
    "ExecuteTime": {
     "end_time": "2025-04-21T11:37:30.134137Z",
     "start_time": "2025-04-21T11:37:30.104491Z"
    }
   },
   "cell_type": "code",
   "source": "df_encoded = pd.get_dummies(df, columns=cat_cols)",
   "id": "ee7a414e40c04f4f",
   "outputs": [],
   "execution_count": 26
  },
  {
   "metadata": {
    "ExecuteTime": {
     "end_time": "2025-04-21T11:37:31.225262Z",
     "start_time": "2025-04-21T11:37:31.218260Z"
    }
   },
   "cell_type": "code",
   "source": "print(f\"✅ Shape after encoding: {df_encoded.shape}\")",
   "id": "28ff961acde3df86",
   "outputs": [
    {
     "name": "stdout",
     "output_type": "stream",
     "text": [
      "✅ Shape after encoding: (20640, 14)\n"
     ]
    }
   ],
   "execution_count": 27
  },
  {
   "metadata": {
    "ExecuteTime": {
     "end_time": "2025-04-21T11:37:34.946734Z",
     "start_time": "2025-04-21T11:37:34.878750Z"
    }
   },
   "cell_type": "code",
   "source": "df_encoded",
   "id": "2ff9f7022f4f9cd0",
   "outputs": [
    {
     "data": {
      "text/plain": [
       "       longitude  latitude  housing_median_age  total_rooms  total_bedrooms  \\\n",
       "0      -1.327835  1.052548            0.982143    -0.804819       -0.972476   \n",
       "1      -1.322844  1.043185           -0.607019     2.045890        1.357143   \n",
       "2      -1.332827  1.038503            1.856182    -0.535746       -0.827024   \n",
       "3      -1.337818  1.038503            1.856182    -0.624215       -0.719723   \n",
       "4      -1.337818  1.038503            1.856182    -0.462404       -0.612423   \n",
       "...          ...       ...                 ...          ...             ...   \n",
       "20635  -0.758826  1.801647           -0.289187    -0.444985       -0.388283   \n",
       "20636  -0.818722  1.806329           -0.845393    -0.888704       -0.922403   \n",
       "20637  -0.823713  1.778237           -0.924851    -0.174995       -0.123608   \n",
       "20638  -0.873626  1.778237           -0.845393    -0.355600       -0.304827   \n",
       "20639  -0.833696  1.750146           -1.004309     0.068408        0.188757   \n",
       "\n",
       "       population  households  median_income  median_house_value  \\\n",
       "0       -0.974429   -0.977033       2.344766            452600.0   \n",
       "1        0.861439    1.669961       2.332238            358500.0   \n",
       "2       -0.820777   -0.843637       1.782699            352100.0   \n",
       "3       -0.766028   -0.733781       0.932968            341300.0   \n",
       "4       -0.759847   -0.629157      -0.012881            342200.0   \n",
       "...           ...         ...            ...                 ...   \n",
       "20635   -0.512592   -0.443449      -1.216128             78100.0   \n",
       "20636   -0.944405   -1.008420      -0.691593             77100.0   \n",
       "20637   -0.369537   -0.174042      -1.142593             92300.0   \n",
       "20638   -0.604429   -0.393753      -1.054583             84700.0   \n",
       "20639   -0.033977    0.079672      -0.780129             89400.0   \n",
       "\n",
       "       ocean_proximity_<1H OCEAN  ocean_proximity_INLAND  \\\n",
       "0                          False                   False   \n",
       "1                          False                   False   \n",
       "2                          False                   False   \n",
       "3                          False                   False   \n",
       "4                          False                   False   \n",
       "...                          ...                     ...   \n",
       "20635                      False                    True   \n",
       "20636                      False                    True   \n",
       "20637                      False                    True   \n",
       "20638                      False                    True   \n",
       "20639                      False                    True   \n",
       "\n",
       "       ocean_proximity_ISLAND  ocean_proximity_NEAR BAY  \\\n",
       "0                       False                      True   \n",
       "1                       False                      True   \n",
       "2                       False                      True   \n",
       "3                       False                      True   \n",
       "4                       False                      True   \n",
       "...                       ...                       ...   \n",
       "20635                   False                     False   \n",
       "20636                   False                     False   \n",
       "20637                   False                     False   \n",
       "20638                   False                     False   \n",
       "20639                   False                     False   \n",
       "\n",
       "       ocean_proximity_NEAR OCEAN  \n",
       "0                           False  \n",
       "1                           False  \n",
       "2                           False  \n",
       "3                           False  \n",
       "4                           False  \n",
       "...                           ...  \n",
       "20635                       False  \n",
       "20636                       False  \n",
       "20637                       False  \n",
       "20638                       False  \n",
       "20639                       False  \n",
       "\n",
       "[20640 rows x 14 columns]"
      ],
      "text/html": [
       "<div>\n",
       "<style scoped>\n",
       "    .dataframe tbody tr th:only-of-type {\n",
       "        vertical-align: middle;\n",
       "    }\n",
       "\n",
       "    .dataframe tbody tr th {\n",
       "        vertical-align: top;\n",
       "    }\n",
       "\n",
       "    .dataframe thead th {\n",
       "        text-align: right;\n",
       "    }\n",
       "</style>\n",
       "<table border=\"1\" class=\"dataframe\">\n",
       "  <thead>\n",
       "    <tr style=\"text-align: right;\">\n",
       "      <th></th>\n",
       "      <th>longitude</th>\n",
       "      <th>latitude</th>\n",
       "      <th>housing_median_age</th>\n",
       "      <th>total_rooms</th>\n",
       "      <th>total_bedrooms</th>\n",
       "      <th>population</th>\n",
       "      <th>households</th>\n",
       "      <th>median_income</th>\n",
       "      <th>median_house_value</th>\n",
       "      <th>ocean_proximity_&lt;1H OCEAN</th>\n",
       "      <th>ocean_proximity_INLAND</th>\n",
       "      <th>ocean_proximity_ISLAND</th>\n",
       "      <th>ocean_proximity_NEAR BAY</th>\n",
       "      <th>ocean_proximity_NEAR OCEAN</th>\n",
       "    </tr>\n",
       "  </thead>\n",
       "  <tbody>\n",
       "    <tr>\n",
       "      <th>0</th>\n",
       "      <td>-1.327835</td>\n",
       "      <td>1.052548</td>\n",
       "      <td>0.982143</td>\n",
       "      <td>-0.804819</td>\n",
       "      <td>-0.972476</td>\n",
       "      <td>-0.974429</td>\n",
       "      <td>-0.977033</td>\n",
       "      <td>2.344766</td>\n",
       "      <td>452600.0</td>\n",
       "      <td>False</td>\n",
       "      <td>False</td>\n",
       "      <td>False</td>\n",
       "      <td>True</td>\n",
       "      <td>False</td>\n",
       "    </tr>\n",
       "    <tr>\n",
       "      <th>1</th>\n",
       "      <td>-1.322844</td>\n",
       "      <td>1.043185</td>\n",
       "      <td>-0.607019</td>\n",
       "      <td>2.045890</td>\n",
       "      <td>1.357143</td>\n",
       "      <td>0.861439</td>\n",
       "      <td>1.669961</td>\n",
       "      <td>2.332238</td>\n",
       "      <td>358500.0</td>\n",
       "      <td>False</td>\n",
       "      <td>False</td>\n",
       "      <td>False</td>\n",
       "      <td>True</td>\n",
       "      <td>False</td>\n",
       "    </tr>\n",
       "    <tr>\n",
       "      <th>2</th>\n",
       "      <td>-1.332827</td>\n",
       "      <td>1.038503</td>\n",
       "      <td>1.856182</td>\n",
       "      <td>-0.535746</td>\n",
       "      <td>-0.827024</td>\n",
       "      <td>-0.820777</td>\n",
       "      <td>-0.843637</td>\n",
       "      <td>1.782699</td>\n",
       "      <td>352100.0</td>\n",
       "      <td>False</td>\n",
       "      <td>False</td>\n",
       "      <td>False</td>\n",
       "      <td>True</td>\n",
       "      <td>False</td>\n",
       "    </tr>\n",
       "    <tr>\n",
       "      <th>3</th>\n",
       "      <td>-1.337818</td>\n",
       "      <td>1.038503</td>\n",
       "      <td>1.856182</td>\n",
       "      <td>-0.624215</td>\n",
       "      <td>-0.719723</td>\n",
       "      <td>-0.766028</td>\n",
       "      <td>-0.733781</td>\n",
       "      <td>0.932968</td>\n",
       "      <td>341300.0</td>\n",
       "      <td>False</td>\n",
       "      <td>False</td>\n",
       "      <td>False</td>\n",
       "      <td>True</td>\n",
       "      <td>False</td>\n",
       "    </tr>\n",
       "    <tr>\n",
       "      <th>4</th>\n",
       "      <td>-1.337818</td>\n",
       "      <td>1.038503</td>\n",
       "      <td>1.856182</td>\n",
       "      <td>-0.462404</td>\n",
       "      <td>-0.612423</td>\n",
       "      <td>-0.759847</td>\n",
       "      <td>-0.629157</td>\n",
       "      <td>-0.012881</td>\n",
       "      <td>342200.0</td>\n",
       "      <td>False</td>\n",
       "      <td>False</td>\n",
       "      <td>False</td>\n",
       "      <td>True</td>\n",
       "      <td>False</td>\n",
       "    </tr>\n",
       "    <tr>\n",
       "      <th>...</th>\n",
       "      <td>...</td>\n",
       "      <td>...</td>\n",
       "      <td>...</td>\n",
       "      <td>...</td>\n",
       "      <td>...</td>\n",
       "      <td>...</td>\n",
       "      <td>...</td>\n",
       "      <td>...</td>\n",
       "      <td>...</td>\n",
       "      <td>...</td>\n",
       "      <td>...</td>\n",
       "      <td>...</td>\n",
       "      <td>...</td>\n",
       "      <td>...</td>\n",
       "    </tr>\n",
       "    <tr>\n",
       "      <th>20635</th>\n",
       "      <td>-0.758826</td>\n",
       "      <td>1.801647</td>\n",
       "      <td>-0.289187</td>\n",
       "      <td>-0.444985</td>\n",
       "      <td>-0.388283</td>\n",
       "      <td>-0.512592</td>\n",
       "      <td>-0.443449</td>\n",
       "      <td>-1.216128</td>\n",
       "      <td>78100.0</td>\n",
       "      <td>False</td>\n",
       "      <td>True</td>\n",
       "      <td>False</td>\n",
       "      <td>False</td>\n",
       "      <td>False</td>\n",
       "    </tr>\n",
       "    <tr>\n",
       "      <th>20636</th>\n",
       "      <td>-0.818722</td>\n",
       "      <td>1.806329</td>\n",
       "      <td>-0.845393</td>\n",
       "      <td>-0.888704</td>\n",
       "      <td>-0.922403</td>\n",
       "      <td>-0.944405</td>\n",
       "      <td>-1.008420</td>\n",
       "      <td>-0.691593</td>\n",
       "      <td>77100.0</td>\n",
       "      <td>False</td>\n",
       "      <td>True</td>\n",
       "      <td>False</td>\n",
       "      <td>False</td>\n",
       "      <td>False</td>\n",
       "    </tr>\n",
       "    <tr>\n",
       "      <th>20637</th>\n",
       "      <td>-0.823713</td>\n",
       "      <td>1.778237</td>\n",
       "      <td>-0.924851</td>\n",
       "      <td>-0.174995</td>\n",
       "      <td>-0.123608</td>\n",
       "      <td>-0.369537</td>\n",
       "      <td>-0.174042</td>\n",
       "      <td>-1.142593</td>\n",
       "      <td>92300.0</td>\n",
       "      <td>False</td>\n",
       "      <td>True</td>\n",
       "      <td>False</td>\n",
       "      <td>False</td>\n",
       "      <td>False</td>\n",
       "    </tr>\n",
       "    <tr>\n",
       "      <th>20638</th>\n",
       "      <td>-0.873626</td>\n",
       "      <td>1.778237</td>\n",
       "      <td>-0.845393</td>\n",
       "      <td>-0.355600</td>\n",
       "      <td>-0.304827</td>\n",
       "      <td>-0.604429</td>\n",
       "      <td>-0.393753</td>\n",
       "      <td>-1.054583</td>\n",
       "      <td>84700.0</td>\n",
       "      <td>False</td>\n",
       "      <td>True</td>\n",
       "      <td>False</td>\n",
       "      <td>False</td>\n",
       "      <td>False</td>\n",
       "    </tr>\n",
       "    <tr>\n",
       "      <th>20639</th>\n",
       "      <td>-0.833696</td>\n",
       "      <td>1.750146</td>\n",
       "      <td>-1.004309</td>\n",
       "      <td>0.068408</td>\n",
       "      <td>0.188757</td>\n",
       "      <td>-0.033977</td>\n",
       "      <td>0.079672</td>\n",
       "      <td>-0.780129</td>\n",
       "      <td>89400.0</td>\n",
       "      <td>False</td>\n",
       "      <td>True</td>\n",
       "      <td>False</td>\n",
       "      <td>False</td>\n",
       "      <td>False</td>\n",
       "    </tr>\n",
       "  </tbody>\n",
       "</table>\n",
       "<p>20640 rows × 14 columns</p>\n",
       "</div>"
      ]
     },
     "execution_count": 28,
     "metadata": {},
     "output_type": "execute_result"
    }
   ],
   "execution_count": 28
  },
  {
   "metadata": {},
   "cell_type": "markdown",
   "source": "## Export",
   "id": "708e461b9e260cf1"
  },
  {
   "metadata": {
    "ExecuteTime": {
     "end_time": "2025-04-21T11:38:02.299258Z",
     "start_time": "2025-04-21T11:38:02.276045Z"
    }
   },
   "cell_type": "code",
   "source": [
    "s3 = boto3.client(\"s3\")\n",
    "output_key = f\"datasets/{filename.replace('.csv', '_processed.csv')}\""
   ],
   "id": "8b90b6fce3537f1",
   "outputs": [],
   "execution_count": 29
  },
  {
   "metadata": {
    "ExecuteTime": {
     "end_time": "2025-04-21T11:38:03.589921Z",
     "start_time": "2025-04-21T11:38:02.927721Z"
    }
   },
   "cell_type": "code",
   "source": [
    "csv_buffer = StringIO()\n",
    "df_encoded.to_csv(csv_buffer, index=True)"
   ],
   "id": "7fa02e98823f4788",
   "outputs": [],
   "execution_count": 30
  },
  {
   "metadata": {
    "ExecuteTime": {
     "end_time": "2025-04-21T11:38:05.407839Z",
     "start_time": "2025-04-21T11:38:04.833091Z"
    }
   },
   "cell_type": "code",
   "source": [
    "# Upload to S3\n",
    "s3.put_object(\n",
    "    Bucket=os.getenv(\"S3_BUCKET_NAME\"),\n",
    "    Key=output_key,\n",
    "    Body=csv_buffer.getvalue()\n",
    ")\n",
    "\n",
    "print(f\"✅ Saved processed dataset to s3://{os.getenv('S3_BUCKET_NAME')}/{output_key}\")"
   ],
   "id": "d3e8de72c2fec03c",
   "outputs": [
    {
     "name": "stdout",
     "output_type": "stream",
     "text": [
      "✅ Saved processed dataset to s3://athos-mlops0-bucket/datasets/california_housing_processed.csv\n"
     ]
    }
   ],
   "execution_count": 31
  },
  {
   "metadata": {},
   "cell_type": "code",
   "outputs": [],
   "execution_count": null,
   "source": "",
   "id": "51f985de0c5029e1"
  }
 ],
 "metadata": {
  "kernelspec": {
   "display_name": "Python 3",
   "language": "python",
   "name": "python3"
  },
  "language_info": {
   "codemirror_mode": {
    "name": "ipython",
    "version": 2
   },
   "file_extension": ".py",
   "mimetype": "text/x-python",
   "name": "python",
   "nbconvert_exporter": "python",
   "pygments_lexer": "ipython2",
   "version": "2.7.6"
  }
 },
 "nbformat": 4,
 "nbformat_minor": 5
}
