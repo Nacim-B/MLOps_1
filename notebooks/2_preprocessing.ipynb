{
 "cells": [
  {
   "metadata": {},
   "cell_type": "markdown",
   "source": "## Setup",
   "id": "8b847a9ce1cff05e"
  },
  {
   "cell_type": "code",
   "id": "initial_id",
   "metadata": {
    "collapsed": true,
    "ExecuteTime": {
     "end_time": "2025-04-21T11:12:51.103994Z",
     "start_time": "2025-04-21T11:12:51.095162Z"
    }
   },
   "source": [
    "import os\n",
    "import sys\n",
    "import pandas as pd\n",
    "import boto3\n",
    "import numpy as np\n",
    "from sklearn.preprocessing import StandardScaler\n",
    "from io import StringIO\n",
    "from dotenv import load_dotenv\n",
    "\n",
    "sys.path.append(\"src\")\n",
    "from mlops_project.utils.load_from_s3 import S3Loader\n"
   ],
   "outputs": [],
   "execution_count": 144
  },
  {
   "metadata": {
    "ExecuteTime": {
     "end_time": "2025-04-21T09:52:35.924288Z",
     "start_time": "2025-04-21T09:52:35.736412Z"
    }
   },
   "cell_type": "code",
   "source": [
    "load_dotenv()\n",
    "\n",
    "bucket = os.getenv(\"S3_BUCKET_NAME\")\n",
    "filename = os.getenv(\"CSV_FILENAME\")\n",
    "s3_key = f\"datasets/{filename}\"\n",
    "\n",
    "target = \"Survived\"\n",
    "id_column = \"PassengerId\" # or None\n",
    "\n",
    "s3loader = S3Loader(bucket)\n",
    "df = s3loader.load_csv_from_s3(s3_key)\n",
    "print(f\"✅ Loaded dataset with shape: {df.shape}\")"
   ],
   "id": "c92d0d65916a816d",
   "outputs": [
    {
     "name": "stdout",
     "output_type": "stream",
     "text": [
      "🌀 GZIP compression detected\n",
      "✅ Loaded dataset with shape: (891, 12)\n"
     ]
    }
   ],
   "execution_count": 110
  },
  {
   "metadata": {},
   "cell_type": "markdown",
   "source": "## Initial Cleanup",
   "id": "992530f44864a65b"
  },
  {
   "metadata": {
    "ExecuteTime": {
     "end_time": "2025-04-21T09:52:37.559031Z",
     "start_time": "2025-04-21T09:52:37.549985Z"
    }
   },
   "cell_type": "code",
   "source": [
    "# Initial dataset shape\n",
    "print(f\"🔍 Initial shape: {df.shape}\")"
   ],
   "id": "a3a237574978bf6a",
   "outputs": [
    {
     "name": "stdout",
     "output_type": "stream",
     "text": [
      "🔍 Initial shape: (891, 12)\n"
     ]
    }
   ],
   "execution_count": 111
  },
  {
   "metadata": {
    "ExecuteTime": {
     "end_time": "2025-04-21T09:52:37.615411Z",
     "start_time": "2025-04-21T09:52:37.606239Z"
    }
   },
   "cell_type": "code",
   "source": [
    "# Drop duplicate rows\n",
    "df = df.drop_duplicates()\n",
    "print(f\"🧹 After removing duplicates: {df.shape}\")"
   ],
   "id": "5338f88c378e7806",
   "outputs": [
    {
     "name": "stdout",
     "output_type": "stream",
     "text": [
      "🧹 After removing duplicates: (891, 12)\n"
     ]
    }
   ],
   "execution_count": 112
  },
  {
   "metadata": {
    "ExecuteTime": {
     "end_time": "2025-04-21T09:52:37.696802Z",
     "start_time": "2025-04-21T09:52:37.689239Z"
    }
   },
   "cell_type": "code",
   "source": [
    "# Drop empty columns (100% missing values)\n",
    "empty_cols = df.columns[df.isna().sum() == len(df)]\n",
    "df = df.drop(columns=empty_cols)\n",
    "print(f\"🗑️ Dropped empty columns: {list(empty_cols)}\")"
   ],
   "id": "a310622ef36800e",
   "outputs": [
    {
     "name": "stdout",
     "output_type": "stream",
     "text": [
      "🗑️ Dropped empty columns: []\n"
     ]
    }
   ],
   "execution_count": 113
  },
  {
   "metadata": {
    "ExecuteTime": {
     "end_time": "2025-04-21T09:52:37.752885Z",
     "start_time": "2025-04-21T09:52:37.742876Z"
    }
   },
   "cell_type": "code",
   "source": [
    "# Drop constant columns (only one unique value)\n",
    "constant_cols = [col for col in df.columns if df[col].nunique() <= 1]\n",
    "df = df.drop(columns=constant_cols)\n",
    "print(f\"🧺 Dropped constant columns: {constant_cols}\")"
   ],
   "id": "371102f76cecac45",
   "outputs": [
    {
     "name": "stdout",
     "output_type": "stream",
     "text": [
      "🧺 Dropped constant columns: []\n"
     ]
    }
   ],
   "execution_count": 114
  },
  {
   "metadata": {
    "ExecuteTime": {
     "end_time": "2025-04-21T09:52:37.813952Z",
     "start_time": "2025-04-21T09:52:37.804212Z"
    }
   },
   "cell_type": "code",
   "source": [
    "# Set ID column as index (if defined, unique, and non-null)\n",
    "if id_column and id_column in df.columns:\n",
    "    is_unique = df[id_column].is_unique\n",
    "    has_no_nan = df[id_column].isna().sum() == 0\n",
    "\n",
    "    if is_unique and has_no_nan:\n",
    "        df.set_index(id_column, inplace=True)\n",
    "        print(f\"📎 Set '{id_column}' as index.\")\n",
    "    elif not is_unique:\n",
    "        print(f\"⚠️ ID column '{id_column}' is not unique – not set as index.\")\n",
    "    elif not has_no_nan:\n",
    "        print(f\"⚠️ ID column '{id_column}' contains missing values – not set as index.\")"
   ],
   "id": "ac9e44ffe342a4fc",
   "outputs": [
    {
     "name": "stdout",
     "output_type": "stream",
     "text": [
      "📎 Set 'PassengerId' as index.\n"
     ]
    }
   ],
   "execution_count": 115
  },
  {
   "metadata": {
    "ExecuteTime": {
     "end_time": "2025-04-21T09:52:37.899675Z",
     "start_time": "2025-04-21T09:52:37.883568Z"
    }
   },
   "cell_type": "code",
   "source": [
    "# Drop unique columns (as many unique values as rows)\n",
    "unique_cols = [col for col in df.columns if df[col].nunique() == len(df)]\n",
    "df = df.drop(columns=unique_cols)\n",
    "print(f\"🚮 Dropped totally unique columns: {unique_cols}\")"
   ],
   "id": "9dfc9ad7b9a0d11b",
   "outputs": [
    {
     "name": "stdout",
     "output_type": "stream",
     "text": [
      "🚮 Dropped totally unique columns: ['Name']\n"
     ]
    }
   ],
   "execution_count": 116
  },
  {
   "metadata": {
    "ExecuteTime": {
     "end_time": "2025-04-21T09:52:37.986739Z",
     "start_time": "2025-04-21T09:52:37.981188Z"
    }
   },
   "cell_type": "code",
   "source": "print(f\"✅ Cleaned shape: {df.shape}\")",
   "id": "4a9aca70e05ea95a",
   "outputs": [
    {
     "name": "stdout",
     "output_type": "stream",
     "text": [
      "✅ Cleaned shape: (891, 10)\n"
     ]
    }
   ],
   "execution_count": 117
  },
  {
   "metadata": {},
   "cell_type": "markdown",
   "source": "## Handling Missing Values (numerical features)",
   "id": "39417934e42a335b"
  },
  {
   "metadata": {
    "ExecuteTime": {
     "end_time": "2025-04-21T09:52:38.917793Z",
     "start_time": "2025-04-21T09:52:38.905281Z"
    }
   },
   "cell_type": "code",
   "source": [
    "# Select numerical columns\n",
    "num_cols = df.select_dtypes(include=[\"number\"]).columns"
   ],
   "id": "9fcc92c834aaf5f",
   "outputs": [],
   "execution_count": 118
  },
  {
   "metadata": {
    "ExecuteTime": {
     "end_time": "2025-04-21T09:52:38.974987Z",
     "start_time": "2025-04-21T09:52:38.966572Z"
    }
   },
   "cell_type": "code",
   "source": [
    "# Count missing values in numerical columns\n",
    "missing_num = df[num_cols].isna().sum()\n",
    "missing_num = missing_num[missing_num > 0]\n",
    "\n",
    "print(\"🔍 Numerical columns with missing values:\")\n",
    "print(missing_num)"
   ],
   "id": "d0893ca35d9aaa68",
   "outputs": [
    {
     "name": "stdout",
     "output_type": "stream",
     "text": [
      "🔍 Numerical columns with missing values:\n",
      "Age    177\n",
      "dtype: int64\n"
     ]
    }
   ],
   "execution_count": 119
  },
  {
   "metadata": {
    "ExecuteTime": {
     "end_time": "2025-04-21T09:52:39.049462Z",
     "start_time": "2025-04-21T09:52:39.043413Z"
    }
   },
   "cell_type": "code",
   "source": [
    "# Fill missing values with the median of each column\n",
    "for col in missing_num.index:\n",
    "    median_value = df[col].median()\n",
    "    df[col] = df[col].fillna(median_value)\n",
    "    print(f\"🧪 Filled NaNs in '{col}' with median: {median_value:.2f}\")"
   ],
   "id": "e2b220f07d0c0621",
   "outputs": [
    {
     "name": "stdout",
     "output_type": "stream",
     "text": [
      "🧪 Filled NaNs in 'Age' with median: 28.00\n"
     ]
    }
   ],
   "execution_count": 120
  },
  {
   "metadata": {},
   "cell_type": "markdown",
   "source": "## Handling Missing Values (categorical features)",
   "id": "7ddc1216fa6cb1ad"
  },
  {
   "metadata": {
    "ExecuteTime": {
     "end_time": "2025-04-21T09:52:41.118676Z",
     "start_time": "2025-04-21T09:52:41.109709Z"
    }
   },
   "cell_type": "code",
   "source": [
    "# Select categorical columns\n",
    "cat_cols = df.select_dtypes(include=[\"object\", \"category\"]).columns"
   ],
   "id": "fd94dd5d9a9f2ce7",
   "outputs": [],
   "execution_count": 121
  },
  {
   "metadata": {
    "ExecuteTime": {
     "end_time": "2025-04-21T09:52:41.174260Z",
     "start_time": "2025-04-21T09:52:41.166380Z"
    }
   },
   "cell_type": "code",
   "source": [
    "# Count missing values in categorical columns\n",
    "missing_cat = df[cat_cols].isna().sum()\n",
    "missing_cat = missing_cat[missing_cat > 0]\n",
    "\n",
    "print(\"🔍 Categorical columns with missing values:\")\n",
    "print(missing_cat)"
   ],
   "id": "91947167f9ab4cd",
   "outputs": [
    {
     "name": "stdout",
     "output_type": "stream",
     "text": [
      "🔍 Categorical columns with missing values:\n",
      "Cabin       687\n",
      "Embarked      2\n",
      "dtype: int64\n"
     ]
    }
   ],
   "execution_count": 122
  },
  {
   "metadata": {
    "ExecuteTime": {
     "end_time": "2025-04-21T09:52:41.273670Z",
     "start_time": "2025-04-21T09:52:41.262948Z"
    }
   },
   "cell_type": "code",
   "source": [
    "# Fill missing values with the most frequent value (mode)\n",
    "for col in missing_cat.index:\n",
    "    most_common = df[col].mode()[0]\n",
    "    df[col] = df[col].fillna(most_common)\n",
    "    print(f\"📌 Filled NaNs in '{col}' with most frequent value: '{most_common}'\")"
   ],
   "id": "898653752e2d70ea",
   "outputs": [
    {
     "name": "stdout",
     "output_type": "stream",
     "text": [
      "📌 Filled NaNs in 'Cabin' with most frequent value: 'B96 B98'\n",
      "📌 Filled NaNs in 'Embarked' with most frequent value: 'S'\n"
     ]
    }
   ],
   "execution_count": 123
  },
  {
   "metadata": {},
   "cell_type": "markdown",
   "source": "## Standardisation",
   "id": "606def9511b8107c"
  },
  {
   "metadata": {
    "ExecuteTime": {
     "end_time": "2025-04-21T09:52:43.547198Z",
     "start_time": "2025-04-21T09:52:43.533196Z"
    }
   },
   "cell_type": "code",
   "source": [
    "# Select numerical columns\n",
    "num_cols = df.select_dtypes(include=[\"number\"]).columns\n",
    "num_cols = [col for col in num_cols if col != target]"
   ],
   "id": "9e821456d940ec8f",
   "outputs": [],
   "execution_count": 124
  },
  {
   "metadata": {
    "ExecuteTime": {
     "end_time": "2025-04-21T09:52:43.595392Z",
     "start_time": "2025-04-21T09:52:43.590241Z"
    }
   },
   "cell_type": "code",
   "source": [
    "# Identify numeric columns with few unique values (discrete-like)\n",
    "discrete_as_cat = [col for col in num_cols if df[col].nunique() <= 5]"
   ],
   "id": "816d3f03c1bfe9b6",
   "outputs": [],
   "execution_count": 125
  },
  {
   "metadata": {
    "ExecuteTime": {
     "end_time": "2025-04-21T09:52:43.686219Z",
     "start_time": "2025-04-21T09:52:43.680344Z"
    }
   },
   "cell_type": "code",
   "source": [
    "# Final list of columns to scale = numeric columns - discrete ones\n",
    "scale_cols = [col for col in num_cols if col not in discrete_as_cat]"
   ],
   "id": "177374b649b22bfd",
   "outputs": [],
   "execution_count": 126
  },
  {
   "metadata": {
    "ExecuteTime": {
     "end_time": "2025-04-21T09:52:43.771866Z",
     "start_time": "2025-04-21T09:52:43.766532Z"
    }
   },
   "cell_type": "code",
   "source": [
    "print(f\"🧠 Treating as categorical (discrete numeric): {discrete_as_cat}\")\n",
    "print(f\"📏 Standardizing columns: {scale_cols}\")"
   ],
   "id": "9b588c335d8073c4",
   "outputs": [
    {
     "name": "stdout",
     "output_type": "stream",
     "text": [
      "🧠 Treating as categorical (discrete numeric): ['Pclass']\n",
      "📏 Standardizing columns: ['Age', 'SibSp', 'Parch', 'Fare']\n"
     ]
    }
   ],
   "execution_count": 127
  },
  {
   "metadata": {
    "ExecuteTime": {
     "end_time": "2025-04-21T09:52:43.843873Z",
     "start_time": "2025-04-21T09:52:43.824876Z"
    }
   },
   "cell_type": "code",
   "source": [
    "# Apply StandardScaler only on selected columns\n",
    "scaler = StandardScaler()\n",
    "scaled_data = scaler.fit_transform(df[scale_cols])"
   ],
   "id": "6c870f891b8855e5",
   "outputs": [],
   "execution_count": 128
  },
  {
   "metadata": {
    "ExecuteTime": {
     "end_time": "2025-04-21T09:52:43.938816Z",
     "start_time": "2025-04-21T09:52:43.930796Z"
    }
   },
   "cell_type": "code",
   "source": [
    "# Replace in DataFrame\n",
    "df[scale_cols] = scaled_data"
   ],
   "id": "fc9875284ee5b5a",
   "outputs": [],
   "execution_count": 129
  },
  {
   "metadata": {
    "ExecuteTime": {
     "end_time": "2025-04-21T09:52:44.015064Z",
     "start_time": "2025-04-21T09:52:44.009653Z"
    }
   },
   "cell_type": "code",
   "source": "print(f\"✅ Standardized {len(scale_cols)} columns.\")",
   "id": "6433833e5ff1d6b8",
   "outputs": [
    {
     "name": "stdout",
     "output_type": "stream",
     "text": [
      "✅ Standardized 4 columns.\n"
     ]
    }
   ],
   "execution_count": 130
  },
  {
   "metadata": {},
   "cell_type": "markdown",
   "source": "## Encoding",
   "id": "8e1b36a0d34981e1"
  },
  {
   "metadata": {
    "ExecuteTime": {
     "end_time": "2025-04-21T09:52:44.964802Z",
     "start_time": "2025-04-21T09:52:44.956261Z"
    }
   },
   "cell_type": "code",
   "source": [
    "# Get original categorical columns (object or category type)\n",
    "base_cat_cols = df.select_dtypes(include=[\"object\", \"category\"]).columns.tolist()\n",
    "base_cat_cols = [col for col in base_cat_cols if col != target]"
   ],
   "id": "95399331e49b769d",
   "outputs": [],
   "execution_count": 131
  },
  {
   "metadata": {
    "ExecuteTime": {
     "end_time": "2025-04-21T09:52:45.025367Z",
     "start_time": "2025-04-21T09:52:45.020967Z"
    }
   },
   "cell_type": "code",
   "source": [
    "# Add discrete numeric columns identified as categorical\n",
    "cat_cols = base_cat_cols + discrete_as_cat"
   ],
   "id": "8b2ca2409335ccd1",
   "outputs": [],
   "execution_count": 132
  },
  {
   "metadata": {
    "ExecuteTime": {
     "end_time": "2025-04-21T09:52:45.103343Z",
     "start_time": "2025-04-21T09:52:45.098099Z"
    }
   },
   "cell_type": "code",
   "source": "print(f\"🎯 One-hot encoding on columns: {cat_cols}\")",
   "id": "70f2da0e41c4d873",
   "outputs": [
    {
     "name": "stdout",
     "output_type": "stream",
     "text": [
      "🎯 One-hot encoding on columns: ['Sex', 'Ticket', 'Cabin', 'Embarked', 'Pclass']\n"
     ]
    }
   ],
   "execution_count": 133
  },
  {
   "metadata": {
    "ExecuteTime": {
     "end_time": "2025-04-21T09:52:45.174551Z",
     "start_time": "2025-04-21T09:52:45.159547Z"
    }
   },
   "cell_type": "code",
   "source": "df_encoded = pd.get_dummies(df, columns=cat_cols)",
   "id": "ee7a414e40c04f4f",
   "outputs": [],
   "execution_count": 134
  },
  {
   "metadata": {
    "ExecuteTime": {
     "end_time": "2025-04-21T09:52:45.238316Z",
     "start_time": "2025-04-21T09:52:45.232067Z"
    }
   },
   "cell_type": "code",
   "source": "print(f\"✅ Shape after encoding: {df_encoded.shape}\")",
   "id": "28ff961acde3df86",
   "outputs": [
    {
     "name": "stdout",
     "output_type": "stream",
     "text": [
      "✅ Shape after encoding: (891, 841)\n"
     ]
    }
   ],
   "execution_count": 135
  },
  {
   "metadata": {
    "ExecuteTime": {
     "end_time": "2025-04-21T09:52:45.355565Z",
     "start_time": "2025-04-21T09:52:45.318085Z"
    }
   },
   "cell_type": "code",
   "source": "df_encoded",
   "id": "2ff9f7022f4f9cd0",
   "outputs": [
    {
     "data": {
      "text/plain": [
       "             Survived       Age     SibSp     Parch      Fare  Sex_female  \\\n",
       "PassengerId                                                                 \n",
       "1                   0 -0.565736  0.432793 -0.473674 -0.502445       False   \n",
       "2                   1  0.663861  0.432793 -0.473674  0.786845        True   \n",
       "3                   1 -0.258337 -0.474545 -0.473674 -0.488854        True   \n",
       "4                   1  0.433312  0.432793 -0.473674  0.420730        True   \n",
       "5                   0  0.433312 -0.474545 -0.473674 -0.486337       False   \n",
       "...               ...       ...       ...       ...       ...         ...   \n",
       "887                 0 -0.181487 -0.474545 -0.473674 -0.386671       False   \n",
       "888                 1 -0.796286 -0.474545 -0.473674 -0.044381        True   \n",
       "889                 0 -0.104637  0.432793  2.008933 -0.176263        True   \n",
       "890                 1 -0.258337 -0.474545 -0.473674 -0.044381       False   \n",
       "891                 0  0.202762 -0.474545 -0.473674 -0.492378       False   \n",
       "\n",
       "             Sex_male  Ticket_110152  Ticket_110413  Ticket_110465  ...  \\\n",
       "PassengerId                                                         ...   \n",
       "1                True          False          False          False  ...   \n",
       "2               False          False          False          False  ...   \n",
       "3               False          False          False          False  ...   \n",
       "4               False          False          False          False  ...   \n",
       "5                True          False          False          False  ...   \n",
       "...               ...            ...            ...            ...  ...   \n",
       "887              True          False          False          False  ...   \n",
       "888             False          False          False          False  ...   \n",
       "889             False          False          False          False  ...   \n",
       "890              True          False          False          False  ...   \n",
       "891              True          False          False          False  ...   \n",
       "\n",
       "             Cabin_F38  Cabin_F4  Cabin_G6  Cabin_T  Embarked_C  Embarked_Q  \\\n",
       "PassengerId                                                                   \n",
       "1                False     False     False    False       False       False   \n",
       "2                False     False     False    False        True       False   \n",
       "3                False     False     False    False       False       False   \n",
       "4                False     False     False    False       False       False   \n",
       "5                False     False     False    False       False       False   \n",
       "...                ...       ...       ...      ...         ...         ...   \n",
       "887              False     False     False    False       False       False   \n",
       "888              False     False     False    False       False       False   \n",
       "889              False     False     False    False       False       False   \n",
       "890              False     False     False    False        True       False   \n",
       "891              False     False     False    False       False        True   \n",
       "\n",
       "             Embarked_S  Pclass_1  Pclass_2  Pclass_3  \n",
       "PassengerId                                            \n",
       "1                  True     False     False      True  \n",
       "2                 False      True     False     False  \n",
       "3                  True     False     False      True  \n",
       "4                  True      True     False     False  \n",
       "5                  True     False     False      True  \n",
       "...                 ...       ...       ...       ...  \n",
       "887                True     False      True     False  \n",
       "888                True      True     False     False  \n",
       "889                True     False     False      True  \n",
       "890               False      True     False     False  \n",
       "891               False     False     False      True  \n",
       "\n",
       "[891 rows x 841 columns]"
      ],
      "text/html": [
       "<div>\n",
       "<style scoped>\n",
       "    .dataframe tbody tr th:only-of-type {\n",
       "        vertical-align: middle;\n",
       "    }\n",
       "\n",
       "    .dataframe tbody tr th {\n",
       "        vertical-align: top;\n",
       "    }\n",
       "\n",
       "    .dataframe thead th {\n",
       "        text-align: right;\n",
       "    }\n",
       "</style>\n",
       "<table border=\"1\" class=\"dataframe\">\n",
       "  <thead>\n",
       "    <tr style=\"text-align: right;\">\n",
       "      <th></th>\n",
       "      <th>Survived</th>\n",
       "      <th>Age</th>\n",
       "      <th>SibSp</th>\n",
       "      <th>Parch</th>\n",
       "      <th>Fare</th>\n",
       "      <th>Sex_female</th>\n",
       "      <th>Sex_male</th>\n",
       "      <th>Ticket_110152</th>\n",
       "      <th>Ticket_110413</th>\n",
       "      <th>Ticket_110465</th>\n",
       "      <th>...</th>\n",
       "      <th>Cabin_F38</th>\n",
       "      <th>Cabin_F4</th>\n",
       "      <th>Cabin_G6</th>\n",
       "      <th>Cabin_T</th>\n",
       "      <th>Embarked_C</th>\n",
       "      <th>Embarked_Q</th>\n",
       "      <th>Embarked_S</th>\n",
       "      <th>Pclass_1</th>\n",
       "      <th>Pclass_2</th>\n",
       "      <th>Pclass_3</th>\n",
       "    </tr>\n",
       "    <tr>\n",
       "      <th>PassengerId</th>\n",
       "      <th></th>\n",
       "      <th></th>\n",
       "      <th></th>\n",
       "      <th></th>\n",
       "      <th></th>\n",
       "      <th></th>\n",
       "      <th></th>\n",
       "      <th></th>\n",
       "      <th></th>\n",
       "      <th></th>\n",
       "      <th></th>\n",
       "      <th></th>\n",
       "      <th></th>\n",
       "      <th></th>\n",
       "      <th></th>\n",
       "      <th></th>\n",
       "      <th></th>\n",
       "      <th></th>\n",
       "      <th></th>\n",
       "      <th></th>\n",
       "      <th></th>\n",
       "    </tr>\n",
       "  </thead>\n",
       "  <tbody>\n",
       "    <tr>\n",
       "      <th>1</th>\n",
       "      <td>0</td>\n",
       "      <td>-0.565736</td>\n",
       "      <td>0.432793</td>\n",
       "      <td>-0.473674</td>\n",
       "      <td>-0.502445</td>\n",
       "      <td>False</td>\n",
       "      <td>True</td>\n",
       "      <td>False</td>\n",
       "      <td>False</td>\n",
       "      <td>False</td>\n",
       "      <td>...</td>\n",
       "      <td>False</td>\n",
       "      <td>False</td>\n",
       "      <td>False</td>\n",
       "      <td>False</td>\n",
       "      <td>False</td>\n",
       "      <td>False</td>\n",
       "      <td>True</td>\n",
       "      <td>False</td>\n",
       "      <td>False</td>\n",
       "      <td>True</td>\n",
       "    </tr>\n",
       "    <tr>\n",
       "      <th>2</th>\n",
       "      <td>1</td>\n",
       "      <td>0.663861</td>\n",
       "      <td>0.432793</td>\n",
       "      <td>-0.473674</td>\n",
       "      <td>0.786845</td>\n",
       "      <td>True</td>\n",
       "      <td>False</td>\n",
       "      <td>False</td>\n",
       "      <td>False</td>\n",
       "      <td>False</td>\n",
       "      <td>...</td>\n",
       "      <td>False</td>\n",
       "      <td>False</td>\n",
       "      <td>False</td>\n",
       "      <td>False</td>\n",
       "      <td>True</td>\n",
       "      <td>False</td>\n",
       "      <td>False</td>\n",
       "      <td>True</td>\n",
       "      <td>False</td>\n",
       "      <td>False</td>\n",
       "    </tr>\n",
       "    <tr>\n",
       "      <th>3</th>\n",
       "      <td>1</td>\n",
       "      <td>-0.258337</td>\n",
       "      <td>-0.474545</td>\n",
       "      <td>-0.473674</td>\n",
       "      <td>-0.488854</td>\n",
       "      <td>True</td>\n",
       "      <td>False</td>\n",
       "      <td>False</td>\n",
       "      <td>False</td>\n",
       "      <td>False</td>\n",
       "      <td>...</td>\n",
       "      <td>False</td>\n",
       "      <td>False</td>\n",
       "      <td>False</td>\n",
       "      <td>False</td>\n",
       "      <td>False</td>\n",
       "      <td>False</td>\n",
       "      <td>True</td>\n",
       "      <td>False</td>\n",
       "      <td>False</td>\n",
       "      <td>True</td>\n",
       "    </tr>\n",
       "    <tr>\n",
       "      <th>4</th>\n",
       "      <td>1</td>\n",
       "      <td>0.433312</td>\n",
       "      <td>0.432793</td>\n",
       "      <td>-0.473674</td>\n",
       "      <td>0.420730</td>\n",
       "      <td>True</td>\n",
       "      <td>False</td>\n",
       "      <td>False</td>\n",
       "      <td>False</td>\n",
       "      <td>False</td>\n",
       "      <td>...</td>\n",
       "      <td>False</td>\n",
       "      <td>False</td>\n",
       "      <td>False</td>\n",
       "      <td>False</td>\n",
       "      <td>False</td>\n",
       "      <td>False</td>\n",
       "      <td>True</td>\n",
       "      <td>True</td>\n",
       "      <td>False</td>\n",
       "      <td>False</td>\n",
       "    </tr>\n",
       "    <tr>\n",
       "      <th>5</th>\n",
       "      <td>0</td>\n",
       "      <td>0.433312</td>\n",
       "      <td>-0.474545</td>\n",
       "      <td>-0.473674</td>\n",
       "      <td>-0.486337</td>\n",
       "      <td>False</td>\n",
       "      <td>True</td>\n",
       "      <td>False</td>\n",
       "      <td>False</td>\n",
       "      <td>False</td>\n",
       "      <td>...</td>\n",
       "      <td>False</td>\n",
       "      <td>False</td>\n",
       "      <td>False</td>\n",
       "      <td>False</td>\n",
       "      <td>False</td>\n",
       "      <td>False</td>\n",
       "      <td>True</td>\n",
       "      <td>False</td>\n",
       "      <td>False</td>\n",
       "      <td>True</td>\n",
       "    </tr>\n",
       "    <tr>\n",
       "      <th>...</th>\n",
       "      <td>...</td>\n",
       "      <td>...</td>\n",
       "      <td>...</td>\n",
       "      <td>...</td>\n",
       "      <td>...</td>\n",
       "      <td>...</td>\n",
       "      <td>...</td>\n",
       "      <td>...</td>\n",
       "      <td>...</td>\n",
       "      <td>...</td>\n",
       "      <td>...</td>\n",
       "      <td>...</td>\n",
       "      <td>...</td>\n",
       "      <td>...</td>\n",
       "      <td>...</td>\n",
       "      <td>...</td>\n",
       "      <td>...</td>\n",
       "      <td>...</td>\n",
       "      <td>...</td>\n",
       "      <td>...</td>\n",
       "      <td>...</td>\n",
       "    </tr>\n",
       "    <tr>\n",
       "      <th>887</th>\n",
       "      <td>0</td>\n",
       "      <td>-0.181487</td>\n",
       "      <td>-0.474545</td>\n",
       "      <td>-0.473674</td>\n",
       "      <td>-0.386671</td>\n",
       "      <td>False</td>\n",
       "      <td>True</td>\n",
       "      <td>False</td>\n",
       "      <td>False</td>\n",
       "      <td>False</td>\n",
       "      <td>...</td>\n",
       "      <td>False</td>\n",
       "      <td>False</td>\n",
       "      <td>False</td>\n",
       "      <td>False</td>\n",
       "      <td>False</td>\n",
       "      <td>False</td>\n",
       "      <td>True</td>\n",
       "      <td>False</td>\n",
       "      <td>True</td>\n",
       "      <td>False</td>\n",
       "    </tr>\n",
       "    <tr>\n",
       "      <th>888</th>\n",
       "      <td>1</td>\n",
       "      <td>-0.796286</td>\n",
       "      <td>-0.474545</td>\n",
       "      <td>-0.473674</td>\n",
       "      <td>-0.044381</td>\n",
       "      <td>True</td>\n",
       "      <td>False</td>\n",
       "      <td>False</td>\n",
       "      <td>False</td>\n",
       "      <td>False</td>\n",
       "      <td>...</td>\n",
       "      <td>False</td>\n",
       "      <td>False</td>\n",
       "      <td>False</td>\n",
       "      <td>False</td>\n",
       "      <td>False</td>\n",
       "      <td>False</td>\n",
       "      <td>True</td>\n",
       "      <td>True</td>\n",
       "      <td>False</td>\n",
       "      <td>False</td>\n",
       "    </tr>\n",
       "    <tr>\n",
       "      <th>889</th>\n",
       "      <td>0</td>\n",
       "      <td>-0.104637</td>\n",
       "      <td>0.432793</td>\n",
       "      <td>2.008933</td>\n",
       "      <td>-0.176263</td>\n",
       "      <td>True</td>\n",
       "      <td>False</td>\n",
       "      <td>False</td>\n",
       "      <td>False</td>\n",
       "      <td>False</td>\n",
       "      <td>...</td>\n",
       "      <td>False</td>\n",
       "      <td>False</td>\n",
       "      <td>False</td>\n",
       "      <td>False</td>\n",
       "      <td>False</td>\n",
       "      <td>False</td>\n",
       "      <td>True</td>\n",
       "      <td>False</td>\n",
       "      <td>False</td>\n",
       "      <td>True</td>\n",
       "    </tr>\n",
       "    <tr>\n",
       "      <th>890</th>\n",
       "      <td>1</td>\n",
       "      <td>-0.258337</td>\n",
       "      <td>-0.474545</td>\n",
       "      <td>-0.473674</td>\n",
       "      <td>-0.044381</td>\n",
       "      <td>False</td>\n",
       "      <td>True</td>\n",
       "      <td>False</td>\n",
       "      <td>False</td>\n",
       "      <td>False</td>\n",
       "      <td>...</td>\n",
       "      <td>False</td>\n",
       "      <td>False</td>\n",
       "      <td>False</td>\n",
       "      <td>False</td>\n",
       "      <td>True</td>\n",
       "      <td>False</td>\n",
       "      <td>False</td>\n",
       "      <td>True</td>\n",
       "      <td>False</td>\n",
       "      <td>False</td>\n",
       "    </tr>\n",
       "    <tr>\n",
       "      <th>891</th>\n",
       "      <td>0</td>\n",
       "      <td>0.202762</td>\n",
       "      <td>-0.474545</td>\n",
       "      <td>-0.473674</td>\n",
       "      <td>-0.492378</td>\n",
       "      <td>False</td>\n",
       "      <td>True</td>\n",
       "      <td>False</td>\n",
       "      <td>False</td>\n",
       "      <td>False</td>\n",
       "      <td>...</td>\n",
       "      <td>False</td>\n",
       "      <td>False</td>\n",
       "      <td>False</td>\n",
       "      <td>False</td>\n",
       "      <td>False</td>\n",
       "      <td>True</td>\n",
       "      <td>False</td>\n",
       "      <td>False</td>\n",
       "      <td>False</td>\n",
       "      <td>True</td>\n",
       "    </tr>\n",
       "  </tbody>\n",
       "</table>\n",
       "<p>891 rows × 841 columns</p>\n",
       "</div>"
      ]
     },
     "execution_count": 136,
     "metadata": {},
     "output_type": "execute_result"
    }
   ],
   "execution_count": 136
  },
  {
   "metadata": {},
   "cell_type": "markdown",
   "source": "## Export",
   "id": "708e461b9e260cf1"
  },
  {
   "metadata": {
    "ExecuteTime": {
     "end_time": "2025-04-21T09:58:02.822581Z",
     "start_time": "2025-04-21T09:58:02.797968Z"
    }
   },
   "cell_type": "code",
   "source": [
    "s3 = boto3.client(\"s3\")\n",
    "output_key = f\"datasets/{filename.replace('.csv', '_processed.csv')}\""
   ],
   "id": "8b90b6fce3537f1",
   "outputs": [],
   "execution_count": 141
  },
  {
   "metadata": {
    "ExecuteTime": {
     "end_time": "2025-04-21T09:58:04.258759Z",
     "start_time": "2025-04-21T09:58:04.026471Z"
    }
   },
   "cell_type": "code",
   "source": [
    "csv_buffer = StringIO()\n",
    "df_encoded.to_csv(csv_buffer, index=True)"
   ],
   "id": "7fa02e98823f4788",
   "outputs": [],
   "execution_count": 142
  },
  {
   "metadata": {
    "ExecuteTime": {
     "end_time": "2025-04-21T09:58:04.875628Z",
     "start_time": "2025-04-21T09:58:04.451177Z"
    }
   },
   "cell_type": "code",
   "source": [
    "# Upload to S3\n",
    "s3.put_object(\n",
    "    Bucket=os.getenv(\"S3_BUCKET_NAME\"),\n",
    "    Key=output_key,\n",
    "    Body=csv_buffer.getvalue()\n",
    ")\n",
    "\n",
    "print(f\"✅ Saved processed dataset to s3://{os.getenv('S3_BUCKET_NAME')}/{output_key}\")"
   ],
   "id": "d3e8de72c2fec03c",
   "outputs": [
    {
     "name": "stdout",
     "output_type": "stream",
     "text": [
      "✅ Saved processed dataset to s3://athos-mlops0-bucket/datasets/titanic_processed.csv\n"
     ]
    }
   ],
   "execution_count": 143
  },
  {
   "metadata": {},
   "cell_type": "code",
   "outputs": [],
   "execution_count": null,
   "source": "",
   "id": "51f985de0c5029e1"
  }
 ],
 "metadata": {
  "kernelspec": {
   "display_name": "Python 3",
   "language": "python",
   "name": "python3"
  },
  "language_info": {
   "codemirror_mode": {
    "name": "ipython",
    "version": 2
   },
   "file_extension": ".py",
   "mimetype": "text/x-python",
   "name": "python",
   "nbconvert_exporter": "python",
   "pygments_lexer": "ipython2",
   "version": "2.7.6"
  }
 },
 "nbformat": 4,
 "nbformat_minor": 5
}
