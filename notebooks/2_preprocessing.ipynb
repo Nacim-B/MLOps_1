{
 "cells": [
  {
   "metadata": {},
   "cell_type": "markdown",
   "source": "## Setup",
   "id": "8b847a9ce1cff05e"
  },
  {
   "cell_type": "code",
   "id": "initial_id",
   "metadata": {
    "collapsed": true,
    "ExecuteTime": {
     "end_time": "2025-04-25T09:27:34.493017Z",
     "start_time": "2025-04-25T09:27:32.502359Z"
    }
   },
   "source": [
    "import os\n",
    "import sys\n",
    "import pandas as pd\n",
    "import boto3\n",
    "import numpy as np\n",
    "from sklearn.preprocessing import StandardScaler\n",
    "from io import StringIO\n",
    "from dotenv import load_dotenv\n",
    "\n",
    "sys.path.append(\"src\")\n",
    "from mlops_project.utils.s3_handler import S3Handler\n",
    "from mlops_project.config.config_loader import load_config\n"
   ],
   "outputs": [],
   "execution_count": 1
  },
  {
   "metadata": {
    "ExecuteTime": {
     "end_time": "2025-04-25T09:27:34.540607Z",
     "start_time": "2025-04-25T09:27:34.520414Z"
    }
   },
   "cell_type": "code",
   "source": [
    "load_dotenv()\n",
    "config = load_config(\"../src/mlops_project/config/dev.yaml\")\n",
    "\n",
    "bucket = os.getenv(\"S3_BUCKET_NAME\")\n",
    "filename = os.getenv(\"CSV_FILENAME\")\n",
    "csv_url = os.getenv(\"CSV_URL\")\n",
    "\n",
    "csv_raw_key = f\"datasets/{filename}_raw.csv\"\n",
    "csv_processed_key = f\"datasets/{filename}_processed.csv\"\n",
    "\n",
    "TASK_TYPE = config['type']  # regression or classification\n",
    "target = config['target']\n",
    "id_column = config['id_column'] # None if no index column"
   ],
   "id": "c92d0d65916a816d",
   "outputs": [],
   "execution_count": 2
  },
  {
   "metadata": {
    "ExecuteTime": {
     "end_time": "2025-04-25T09:27:35.523088Z",
     "start_time": "2025-04-25T09:27:34.867367Z"
    }
   },
   "cell_type": "code",
   "source": [
    "s3handler = S3Handler(bucket)\n",
    "s3handler.upload_csv_from_url_to_s3(csv_url, filename)\n",
    "df = s3handler.load_csv_from_s3(csv_raw_key)\n",
    "print(f\"✅ Loaded dataset with shape: {df.shape}\")"
   ],
   "id": "f5992a99d5257b18",
   "outputs": [
    {
     "name": "stdout",
     "output_type": "stream",
     "text": [
      "✅ CSV uploaded to s3://athos-mlops0-bucket/datasets/iris# do not put .csv extension_raw.csv\n",
      "🌀 GZIP compression detected\n",
      "✅ Loaded dataset with shape: (150, 5)\n"
     ]
    }
   ],
   "execution_count": 3
  },
  {
   "metadata": {},
   "cell_type": "markdown",
   "source": "## Initial Cleanup",
   "id": "992530f44864a65b"
  },
  {
   "metadata": {
    "ExecuteTime": {
     "end_time": "2025-04-25T09:27:46.410134Z",
     "start_time": "2025-04-25T09:27:46.400130Z"
    }
   },
   "cell_type": "code",
   "source": [
    "# Initial dataset shape\n",
    "print(f\"🔍 Initial shape: {df.shape}\")"
   ],
   "id": "a3a237574978bf6a",
   "outputs": [
    {
     "name": "stdout",
     "output_type": "stream",
     "text": [
      "🔍 Initial shape: (150, 5)\n"
     ]
    }
   ],
   "execution_count": 4
  },
  {
   "metadata": {
    "ExecuteTime": {
     "end_time": "2025-04-25T09:27:48.068412Z",
     "start_time": "2025-04-25T09:27:48.057232Z"
    }
   },
   "cell_type": "code",
   "source": [
    "# Drop duplicate rows\n",
    "df = df.drop_duplicates()\n",
    "print(f\"🧹 After removing duplicates: {df.shape}\")"
   ],
   "id": "5338f88c378e7806",
   "outputs": [
    {
     "name": "stdout",
     "output_type": "stream",
     "text": [
      "🧹 After removing duplicates: (147, 5)\n"
     ]
    }
   ],
   "execution_count": 5
  },
  {
   "metadata": {
    "ExecuteTime": {
     "end_time": "2025-04-25T09:27:54.784317Z",
     "start_time": "2025-04-25T09:27:54.771789Z"
    }
   },
   "cell_type": "code",
   "source": [
    "# Drop empty columns (100% missing values)\n",
    "empty_cols = df.columns[df.isna().sum() == len(df)]\n",
    "df = df.drop(columns=empty_cols)\n",
    "print(f\"🗑️ Dropped empty columns: {list(empty_cols)}\")"
   ],
   "id": "a310622ef36800e",
   "outputs": [
    {
     "name": "stdout",
     "output_type": "stream",
     "text": [
      "🗑️ Dropped empty columns: []\n"
     ]
    }
   ],
   "execution_count": 6
  },
  {
   "metadata": {
    "ExecuteTime": {
     "end_time": "2025-04-25T09:27:58.456411Z",
     "start_time": "2025-04-25T09:27:58.449307Z"
    }
   },
   "cell_type": "code",
   "source": [
    "# Drop constant columns (only one unique value)\n",
    "constant_cols = [col for col in df.columns if df[col].nunique() <= 1]\n",
    "df = df.drop(columns=constant_cols)\n",
    "print(f\"🧺 Dropped constant columns: {constant_cols}\")"
   ],
   "id": "371102f76cecac45",
   "outputs": [
    {
     "name": "stdout",
     "output_type": "stream",
     "text": [
      "🧺 Dropped constant columns: []\n"
     ]
    }
   ],
   "execution_count": 7
  },
  {
   "metadata": {
    "ExecuteTime": {
     "end_time": "2025-04-25T09:28:01.771184Z",
     "start_time": "2025-04-25T09:28:01.757840Z"
    }
   },
   "cell_type": "code",
   "source": [
    "# Set ID column as index (if defined, unique, and non-null)\n",
    "if id_column and id_column in df.columns:\n",
    "    is_unique = df[id_column].is_unique\n",
    "    has_no_nan = df[id_column].isna().sum() == 0\n",
    "\n",
    "    if is_unique and has_no_nan:\n",
    "        df.set_index(id_column, inplace=True)\n",
    "        print(f\"📎 Set '{id_column}' as index.\")\n",
    "    elif not is_unique:\n",
    "        print(f\"⚠️ ID column '{id_column}' is not unique – not set as index.\")\n",
    "    elif not has_no_nan:\n",
    "        print(f\"⚠️ ID column '{id_column}' contains missing values – not set as index.\")"
   ],
   "id": "ac9e44ffe342a4fc",
   "outputs": [],
   "execution_count": 8
  },
  {
   "metadata": {
    "ExecuteTime": {
     "end_time": "2025-04-25T09:28:12.534708Z",
     "start_time": "2025-04-25T09:28:12.524461Z"
    }
   },
   "cell_type": "code",
   "source": [
    "# Drop unique columns (as many unique values as rows)\n",
    "unique_cols = [col for col in df.columns if df[col].nunique() == len(df)]\n",
    "df = df.drop(columns=unique_cols)\n",
    "print(f\"🚮 Dropped totally unique columns: {unique_cols}\")"
   ],
   "id": "9dfc9ad7b9a0d11b",
   "outputs": [
    {
     "name": "stdout",
     "output_type": "stream",
     "text": [
      "🚮 Dropped totally unique columns: []\n"
     ]
    }
   ],
   "execution_count": 9
  },
  {
   "metadata": {
    "ExecuteTime": {
     "end_time": "2025-04-25T09:28:14.296926Z",
     "start_time": "2025-04-25T09:28:14.290625Z"
    }
   },
   "cell_type": "code",
   "source": "print(f\"✅ Cleaned shape: {df.shape}\")",
   "id": "4a9aca70e05ea95a",
   "outputs": [
    {
     "name": "stdout",
     "output_type": "stream",
     "text": [
      "✅ Cleaned shape: (147, 5)\n"
     ]
    }
   ],
   "execution_count": 10
  },
  {
   "metadata": {},
   "cell_type": "markdown",
   "source": "## Handling Missing Values (numerical features)",
   "id": "39417934e42a335b"
  },
  {
   "metadata": {
    "ExecuteTime": {
     "end_time": "2025-04-25T09:28:19.259993Z",
     "start_time": "2025-04-25T09:28:19.251485Z"
    }
   },
   "cell_type": "code",
   "source": [
    "# Select numerical columns\n",
    "num_cols = df.select_dtypes(include=[\"number\"]).columns"
   ],
   "id": "9fcc92c834aaf5f",
   "outputs": [],
   "execution_count": 11
  },
  {
   "metadata": {
    "ExecuteTime": {
     "end_time": "2025-04-25T09:28:20.873137Z",
     "start_time": "2025-04-25T09:28:20.860367Z"
    }
   },
   "cell_type": "code",
   "source": [
    "# Count missing values in numerical columns\n",
    "missing_num = df[num_cols].isna().sum()\n",
    "missing_num = missing_num[missing_num > 0]\n",
    "\n",
    "print(\"🔍 Numerical columns with missing values:\")\n",
    "print(missing_num)"
   ],
   "id": "d0893ca35d9aaa68",
   "outputs": [
    {
     "name": "stdout",
     "output_type": "stream",
     "text": [
      "🔍 Numerical columns with missing values:\n",
      "Series([], dtype: int64)\n"
     ]
    }
   ],
   "execution_count": 12
  },
  {
   "metadata": {
    "ExecuteTime": {
     "end_time": "2025-04-25T09:28:26.067466Z",
     "start_time": "2025-04-25T09:28:26.061156Z"
    }
   },
   "cell_type": "code",
   "source": [
    "# Fill missing values with the median of each column\n",
    "for col in missing_num.index:\n",
    "    median_value = df[col].median()\n",
    "    df[col] = df[col].fillna(median_value)\n",
    "    print(f\"🧪 Filled NaNs in '{col}' with median: {median_value:.2f}\")"
   ],
   "id": "e2b220f07d0c0621",
   "outputs": [],
   "execution_count": 13
  },
  {
   "metadata": {},
   "cell_type": "markdown",
   "source": "## Handling Missing Values (categorical features)",
   "id": "7ddc1216fa6cb1ad"
  },
  {
   "metadata": {
    "ExecuteTime": {
     "end_time": "2025-04-25T09:28:28.313227Z",
     "start_time": "2025-04-25T09:28:28.306553Z"
    }
   },
   "cell_type": "code",
   "source": [
    "# Select categorical columns\n",
    "cat_cols = df.select_dtypes(include=[\"object\", \"category\"]).columns"
   ],
   "id": "fd94dd5d9a9f2ce7",
   "outputs": [],
   "execution_count": 14
  },
  {
   "metadata": {
    "ExecuteTime": {
     "end_time": "2025-04-25T09:28:31.643274Z",
     "start_time": "2025-04-25T09:28:31.633804Z"
    }
   },
   "cell_type": "code",
   "source": [
    "# Count missing values in categorical columns\n",
    "missing_cat = df[cat_cols].isna().sum()\n",
    "missing_cat = missing_cat[missing_cat > 0]\n",
    "\n",
    "print(\"🔍 Categorical columns with missing values:\")\n",
    "print(missing_cat)"
   ],
   "id": "91947167f9ab4cd",
   "outputs": [
    {
     "name": "stdout",
     "output_type": "stream",
     "text": [
      "🔍 Categorical columns with missing values:\n",
      "Series([], dtype: int64)\n"
     ]
    }
   ],
   "execution_count": 15
  },
  {
   "metadata": {
    "ExecuteTime": {
     "end_time": "2025-04-25T09:28:34.024817Z",
     "start_time": "2025-04-25T09:28:34.017481Z"
    }
   },
   "cell_type": "code",
   "source": [
    "# Fill missing values with the most frequent value (mode)\n",
    "for col in missing_cat.index:\n",
    "    most_common = df[col].mode()[0]\n",
    "    df[col] = df[col].fillna(most_common)\n",
    "    print(f\"📌 Filled NaNs in '{col}' with most frequent value: '{most_common}'\")"
   ],
   "id": "898653752e2d70ea",
   "outputs": [],
   "execution_count": 16
  },
  {
   "metadata": {},
   "cell_type": "markdown",
   "source": "## Standardisation",
   "id": "606def9511b8107c"
  },
  {
   "metadata": {
    "ExecuteTime": {
     "end_time": "2025-04-25T09:28:39.165007Z",
     "start_time": "2025-04-25T09:28:39.158266Z"
    }
   },
   "cell_type": "code",
   "source": [
    "# Select numerical columns\n",
    "num_cols = df.select_dtypes(include=[\"number\"]).columns\n",
    "num_cols = [col for col in num_cols if col != target]"
   ],
   "id": "9e821456d940ec8f",
   "outputs": [],
   "execution_count": 17
  },
  {
   "metadata": {
    "ExecuteTime": {
     "end_time": "2025-04-25T09:28:40.948458Z",
     "start_time": "2025-04-25T09:28:40.934403Z"
    }
   },
   "cell_type": "code",
   "source": [
    "# Identify numeric columns with few unique values (discrete-like)\n",
    "discrete_as_cat = [col for col in num_cols if df[col].nunique() <= 5]"
   ],
   "id": "816d3f03c1bfe9b6",
   "outputs": [],
   "execution_count": 18
  },
  {
   "metadata": {
    "ExecuteTime": {
     "end_time": "2025-04-25T09:28:41.696509Z",
     "start_time": "2025-04-25T09:28:41.689987Z"
    }
   },
   "cell_type": "code",
   "source": [
    "# Final list of columns to scale = numeric columns - discrete ones\n",
    "scale_cols = [col for col in num_cols if col not in discrete_as_cat]"
   ],
   "id": "177374b649b22bfd",
   "outputs": [],
   "execution_count": 19
  },
  {
   "metadata": {
    "ExecuteTime": {
     "end_time": "2025-04-25T09:28:42.475910Z",
     "start_time": "2025-04-25T09:28:42.470978Z"
    }
   },
   "cell_type": "code",
   "source": [
    "print(f\"🧠 Treating as categorical (discrete numeric): {discrete_as_cat}\")\n",
    "print(f\"📏 Standardizing columns: {scale_cols}\")"
   ],
   "id": "9b588c335d8073c4",
   "outputs": [
    {
     "name": "stdout",
     "output_type": "stream",
     "text": [
      "🧠 Treating as categorical (discrete numeric): []\n",
      "📏 Standardizing columns: ['sepal_length', 'sepal_width', 'petal_length', 'petal_width']\n"
     ]
    }
   ],
   "execution_count": 20
  },
  {
   "metadata": {
    "ExecuteTime": {
     "end_time": "2025-04-25T09:28:53.915111Z",
     "start_time": "2025-04-25T09:28:53.897753Z"
    }
   },
   "cell_type": "code",
   "source": [
    "# Apply StandardScaler only on selected columns\n",
    "scaler = StandardScaler()\n",
    "scaled_data = scaler.fit_transform(df[scale_cols])"
   ],
   "id": "6c870f891b8855e5",
   "outputs": [],
   "execution_count": 21
  },
  {
   "metadata": {
    "ExecuteTime": {
     "end_time": "2025-04-25T09:28:56.186823Z",
     "start_time": "2025-04-25T09:28:56.176025Z"
    }
   },
   "cell_type": "code",
   "source": [
    "# Replace in DataFrame\n",
    "df[scale_cols] = scaled_data"
   ],
   "id": "fc9875284ee5b5a",
   "outputs": [],
   "execution_count": 22
  },
  {
   "metadata": {
    "ExecuteTime": {
     "end_time": "2025-04-25T09:28:57.410772Z",
     "start_time": "2025-04-25T09:28:57.403568Z"
    }
   },
   "cell_type": "code",
   "source": "print(f\"✅ Standardized {len(scale_cols)} columns.\")",
   "id": "6433833e5ff1d6b8",
   "outputs": [
    {
     "name": "stdout",
     "output_type": "stream",
     "text": [
      "✅ Standardized 4 columns.\n"
     ]
    }
   ],
   "execution_count": 23
  },
  {
   "metadata": {},
   "cell_type": "markdown",
   "source": "## Encoding",
   "id": "8e1b36a0d34981e1"
  },
  {
   "metadata": {
    "ExecuteTime": {
     "end_time": "2025-04-25T09:29:02.363575Z",
     "start_time": "2025-04-25T09:29:02.352742Z"
    }
   },
   "cell_type": "code",
   "source": [
    "# Get original categorical columns (object or category type)\n",
    "base_cat_cols = df.select_dtypes(include=[\"object\", \"category\"]).columns.tolist()\n",
    "base_cat_cols = [col for col in base_cat_cols if col != target]"
   ],
   "id": "95399331e49b769d",
   "outputs": [],
   "execution_count": 24
  },
  {
   "metadata": {
    "ExecuteTime": {
     "end_time": "2025-04-25T09:29:02.803948Z",
     "start_time": "2025-04-25T09:29:02.797356Z"
    }
   },
   "cell_type": "code",
   "source": [
    "# Add discrete numeric columns identified as categorical\n",
    "cat_cols = base_cat_cols + discrete_as_cat"
   ],
   "id": "8b2ca2409335ccd1",
   "outputs": [],
   "execution_count": 25
  },
  {
   "metadata": {
    "ExecuteTime": {
     "end_time": "2025-04-25T09:29:03.216474Z",
     "start_time": "2025-04-25T09:29:03.210074Z"
    }
   },
   "cell_type": "code",
   "source": "print(f\"🎯 One-hot encoding on columns: {cat_cols}\")",
   "id": "70f2da0e41c4d873",
   "outputs": [
    {
     "name": "stdout",
     "output_type": "stream",
     "text": [
      "🎯 One-hot encoding on columns: []\n"
     ]
    }
   ],
   "execution_count": 26
  },
  {
   "metadata": {
    "ExecuteTime": {
     "end_time": "2025-04-25T09:29:06.455147Z",
     "start_time": "2025-04-25T09:29:06.443957Z"
    }
   },
   "cell_type": "code",
   "source": "df_encoded = pd.get_dummies(df, columns=cat_cols)",
   "id": "ee7a414e40c04f4f",
   "outputs": [],
   "execution_count": 27
  },
  {
   "metadata": {
    "ExecuteTime": {
     "end_time": "2025-04-25T09:29:06.849700Z",
     "start_time": "2025-04-25T09:29:06.842453Z"
    }
   },
   "cell_type": "code",
   "source": "print(f\"✅ Shape after encoding: {df_encoded.shape}\")",
   "id": "28ff961acde3df86",
   "outputs": [
    {
     "name": "stdout",
     "output_type": "stream",
     "text": [
      "✅ Shape after encoding: (147, 5)\n"
     ]
    }
   ],
   "execution_count": 28
  },
  {
   "metadata": {
    "ExecuteTime": {
     "end_time": "2025-04-25T09:29:09.428009Z",
     "start_time": "2025-04-25T09:29:09.388626Z"
    }
   },
   "cell_type": "code",
   "source": "df_encoded",
   "id": "2ff9f7022f4f9cd0",
   "outputs": [
    {
     "data": {
      "text/plain": [
       "     sepal_length  sepal_width  petal_length  petal_width    species\n",
       "0       -0.915509     1.019971     -1.357737    -1.335700     setosa\n",
       "1       -1.157560    -0.128082     -1.357737    -1.335700     setosa\n",
       "2       -1.399610     0.331139     -1.414778    -1.335700     setosa\n",
       "3       -1.520635     0.101529     -1.300696    -1.335700     setosa\n",
       "4       -1.036535     1.249582     -1.357737    -1.335700     setosa\n",
       "..            ...          ...           ...          ...        ...\n",
       "145      1.020892    -0.128082      0.809831     1.444682  virginica\n",
       "146      0.536792    -1.276136      0.695748     0.915085  virginica\n",
       "147      0.778842    -0.128082      0.809831     1.047484  virginica\n",
       "148      0.415766     0.790361      0.923913     1.444682  virginica\n",
       "149      0.052691    -0.128082      0.752789     0.782686  virginica\n",
       "\n",
       "[147 rows x 5 columns]"
      ],
      "text/html": [
       "<div>\n",
       "<style scoped>\n",
       "    .dataframe tbody tr th:only-of-type {\n",
       "        vertical-align: middle;\n",
       "    }\n",
       "\n",
       "    .dataframe tbody tr th {\n",
       "        vertical-align: top;\n",
       "    }\n",
       "\n",
       "    .dataframe thead th {\n",
       "        text-align: right;\n",
       "    }\n",
       "</style>\n",
       "<table border=\"1\" class=\"dataframe\">\n",
       "  <thead>\n",
       "    <tr style=\"text-align: right;\">\n",
       "      <th></th>\n",
       "      <th>sepal_length</th>\n",
       "      <th>sepal_width</th>\n",
       "      <th>petal_length</th>\n",
       "      <th>petal_width</th>\n",
       "      <th>species</th>\n",
       "    </tr>\n",
       "  </thead>\n",
       "  <tbody>\n",
       "    <tr>\n",
       "      <th>0</th>\n",
       "      <td>-0.915509</td>\n",
       "      <td>1.019971</td>\n",
       "      <td>-1.357737</td>\n",
       "      <td>-1.335700</td>\n",
       "      <td>setosa</td>\n",
       "    </tr>\n",
       "    <tr>\n",
       "      <th>1</th>\n",
       "      <td>-1.157560</td>\n",
       "      <td>-0.128082</td>\n",
       "      <td>-1.357737</td>\n",
       "      <td>-1.335700</td>\n",
       "      <td>setosa</td>\n",
       "    </tr>\n",
       "    <tr>\n",
       "      <th>2</th>\n",
       "      <td>-1.399610</td>\n",
       "      <td>0.331139</td>\n",
       "      <td>-1.414778</td>\n",
       "      <td>-1.335700</td>\n",
       "      <td>setosa</td>\n",
       "    </tr>\n",
       "    <tr>\n",
       "      <th>3</th>\n",
       "      <td>-1.520635</td>\n",
       "      <td>0.101529</td>\n",
       "      <td>-1.300696</td>\n",
       "      <td>-1.335700</td>\n",
       "      <td>setosa</td>\n",
       "    </tr>\n",
       "    <tr>\n",
       "      <th>4</th>\n",
       "      <td>-1.036535</td>\n",
       "      <td>1.249582</td>\n",
       "      <td>-1.357737</td>\n",
       "      <td>-1.335700</td>\n",
       "      <td>setosa</td>\n",
       "    </tr>\n",
       "    <tr>\n",
       "      <th>...</th>\n",
       "      <td>...</td>\n",
       "      <td>...</td>\n",
       "      <td>...</td>\n",
       "      <td>...</td>\n",
       "      <td>...</td>\n",
       "    </tr>\n",
       "    <tr>\n",
       "      <th>145</th>\n",
       "      <td>1.020892</td>\n",
       "      <td>-0.128082</td>\n",
       "      <td>0.809831</td>\n",
       "      <td>1.444682</td>\n",
       "      <td>virginica</td>\n",
       "    </tr>\n",
       "    <tr>\n",
       "      <th>146</th>\n",
       "      <td>0.536792</td>\n",
       "      <td>-1.276136</td>\n",
       "      <td>0.695748</td>\n",
       "      <td>0.915085</td>\n",
       "      <td>virginica</td>\n",
       "    </tr>\n",
       "    <tr>\n",
       "      <th>147</th>\n",
       "      <td>0.778842</td>\n",
       "      <td>-0.128082</td>\n",
       "      <td>0.809831</td>\n",
       "      <td>1.047484</td>\n",
       "      <td>virginica</td>\n",
       "    </tr>\n",
       "    <tr>\n",
       "      <th>148</th>\n",
       "      <td>0.415766</td>\n",
       "      <td>0.790361</td>\n",
       "      <td>0.923913</td>\n",
       "      <td>1.444682</td>\n",
       "      <td>virginica</td>\n",
       "    </tr>\n",
       "    <tr>\n",
       "      <th>149</th>\n",
       "      <td>0.052691</td>\n",
       "      <td>-0.128082</td>\n",
       "      <td>0.752789</td>\n",
       "      <td>0.782686</td>\n",
       "      <td>virginica</td>\n",
       "    </tr>\n",
       "  </tbody>\n",
       "</table>\n",
       "<p>147 rows × 5 columns</p>\n",
       "</div>"
      ]
     },
     "execution_count": 29,
     "metadata": {},
     "output_type": "execute_result"
    }
   ],
   "execution_count": 29
  },
  {
   "metadata": {},
   "cell_type": "markdown",
   "source": "## Export",
   "id": "708e461b9e260cf1"
  },
  {
   "metadata": {
    "ExecuteTime": {
     "end_time": "2025-04-24T15:06:55.614008Z",
     "start_time": "2025-04-24T15:06:55.317180Z"
    }
   },
   "cell_type": "code",
   "source": [
    "s3 = boto3.client(\"s3\")\n",
    "csv_buffer = StringIO()\n",
    "df_encoded.to_csv(csv_buffer, index=True)"
   ],
   "id": "8b90b6fce3537f1",
   "outputs": [],
   "execution_count": 32
  },
  {
   "metadata": {
    "ExecuteTime": {
     "end_time": "2025-04-24T15:06:59.066636Z",
     "start_time": "2025-04-24T15:06:58.648858Z"
    }
   },
   "cell_type": "code",
   "source": [
    "# Upload to S3\n",
    "s3.put_object(\n",
    "    Bucket=os.getenv(\"S3_BUCKET_NAME\"),\n",
    "    Key=csv_processed_key,\n",
    "    Body=csv_buffer.getvalue()\n",
    ")\n",
    "\n",
    "print(f\"✅ Saved processed dataset to s3://{os.getenv('S3_BUCKET_NAME')}/{csv_processed_key}\")"
   ],
   "id": "d3e8de72c2fec03c",
   "outputs": [
    {
     "name": "stdout",
     "output_type": "stream",
     "text": [
      "✅ Saved processed dataset to s3://athos-mlops0-bucket/datasets/titanic_processed.csv\n"
     ]
    }
   ],
   "execution_count": 33
  },
  {
   "metadata": {
    "ExecuteTime": {
     "end_time": "2025-04-21T13:14:03.763894Z",
     "start_time": "2025-04-21T13:14:03.760837Z"
    }
   },
   "cell_type": "code",
   "source": "",
   "id": "51f985de0c5029e1",
   "outputs": [],
   "execution_count": null
  }
 ],
 "metadata": {
  "kernelspec": {
   "display_name": "Python 3",
   "language": "python",
   "name": "python3"
  },
  "language_info": {
   "codemirror_mode": {
    "name": "ipython",
    "version": 2
   },
   "file_extension": ".py",
   "mimetype": "text/x-python",
   "name": "python",
   "nbconvert_exporter": "python",
   "pygments_lexer": "ipython2",
   "version": "2.7.6"
  }
 },
 "nbformat": 4,
 "nbformat_minor": 5
}
